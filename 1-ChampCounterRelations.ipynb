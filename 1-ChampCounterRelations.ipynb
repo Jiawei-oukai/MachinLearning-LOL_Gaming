{
 "cells": [
  {
   "cell_type": "code",
   "execution_count": 1,
   "metadata": {},
   "outputs": [],
   "source": [
    "import pandas as pd\n",
    "from tqdm import tqdm\n",
    "import os\n",
    "\n",
    "\n",
    "class DatasetLoader():\n",
    "    def __init__(self, dataset_directory_path=\"./12.12.-splits/\") -> None:\n",
    "        self.dataset_directory_path = dataset_directory_path\n",
    "        self.splits_csv_list = self._get_list_of_files_splitted(\n",
    "            self.dataset_directory_path\n",
    "        )\n",
    "\n",
    "    def _get_list_of_files_splitted(self, data_dir: str):\n",
    "        dic_of_files = {}\n",
    "        for split in [\"train\", \"val\", \"test\"]:\n",
    "            dic_of_files[split] = []\n",
    "            split_data_dir = os.path.join(data_dir, split)\n",
    "            for root, dic, files in os.walk(split_data_dir, topdown=False):\n",
    "                for name in files:\n",
    "                    path = os.path.join(root, name)\n",
    "                    dic_of_files[split].append(path)\n",
    "        return dic_of_files\n",
    "\n",
    "    def _get_X_Y(\n",
    "        self, \n",
    "        csv_list: str\n",
    "    ):\n",
    "        all_X = None\n",
    "        all_y = None\n",
    "        for csv_path in tqdm(csv_list):\n",
    "            df_raw = pd.read_csv(csv_path)\n",
    "            X = df_raw.drop('teamVictory',axis=1)\n",
    "            Y = df_raw['teamVictory']\n",
    "\n",
    "            if type(all_X) == type(None):\n",
    "                all_X = X\n",
    "                all_y = Y\n",
    "            else:\n",
    "                all_X = pd.concat([all_X, X])\n",
    "                all_y = pd.concat([all_y, Y])\n",
    "\n",
    "        return all_X.reset_index().drop(['index','Unnamed: 0'],axis=1), all_y.reset_index().drop(['index'],axis=1)\n",
    "\n",
    "    def load_datasets(self, split=\"train\"):\n",
    "        csv_list = self.splits_csv_list[split]\n",
    "        print(f\"Loading {len(csv_list)} files from {split} split\")\n",
    "        return self._get_X_Y(csv_list=csv_list)\n",
    "\n",
    "\n",
    "dl = DatasetLoader(dataset_directory_path=\"./datasets/12.12.-splits\")"
   ]
  },
  {
   "cell_type": "code",
   "execution_count": 2,
   "metadata": {},
   "outputs": [
    {
     "name": "stdout",
     "output_type": "stream",
     "text": [
      "Loading 87 files from train split\n"
     ]
    },
    {
     "name": "stderr",
     "output_type": "stream",
     "text": [
      "100%|██████████| 87/87 [00:03<00:00, 26.57it/s]\n"
     ]
    },
    {
     "name": "stdout",
     "output_type": "stream",
     "text": [
      "Loading 5 files from val split\n"
     ]
    },
    {
     "name": "stderr",
     "output_type": "stream",
     "text": [
      "100%|██████████| 5/5 [00:00<00:00, 59.06it/s]\n"
     ]
    },
    {
     "name": "stdout",
     "output_type": "stream",
     "text": [
      "Loading 5 files from test split\n"
     ]
    },
    {
     "name": "stderr",
     "output_type": "stream",
     "text": [
      "100%|██████████| 5/5 [00:00<00:00, 57.40it/s]\n"
     ]
    }
   ],
   "source": [
    "X_train, Y_train = dl.load_datasets(split=\"train\")\n",
    "X_val,   Y_val   = dl.load_datasets(split=\"val\")\n",
    "X_test,  Y_test  = dl.load_datasets(split=\"test\")"
   ]
  },
  {
   "cell_type": "code",
   "execution_count": 18,
   "metadata": {},
   "outputs": [
    {
     "data": {
      "text/plain": [
       "(160,)"
      ]
     },
     "execution_count": 18,
     "metadata": {},
     "output_type": "execute_result"
    }
   ],
   "source": [
    "X_train['Player_3_pick'].unique().shape"
   ]
  },
  {
   "cell_type": "code",
   "execution_count": 3,
   "metadata": {},
   "outputs": [],
   "source": [
    "df = X_train.loc[(X_train['Player_1_position']=='TOP') \n",
    "& (X_train['Player_2_position']=='JUNGLE')\n",
    "&(X_train['Player_3_position']=='MIDDLE') \n",
    "& (X_train['Player_4_position']=='BOTTOM')\n",
    "&(X_train['Player_5_position']=='UTILITY') \n",
    "& (X_train['Player_6_position']=='TOP') \n",
    "& (X_train['Player_7_position']=='JUNGLE')\n",
    "&(X_train['Player_8_position']=='MIDDLE') \n",
    "& (X_train['Player_9_position']=='BOTTOM')\n",
    "&(X_train['Player_10_position']=='UTILITY')]"
   ]
  },
  {
   "cell_type": "code",
   "execution_count": 4,
   "metadata": {},
   "outputs": [],
   "source": [
    "top_counter = df[['Player_1_pick','Player_1_gold','Player_6_pick','Player_6_gold']].groupby(['Player_1_pick','Player_6_pick']).mean().reset_index()\n",
    "top_counter['counter_Score'] = top_counter.apply(lambda x: x['Player_1_gold']-x['Player_6_gold'], axis=1)\n",
    "jug_counter = df[['Player_2_pick','Player_2_gold','Player_7_pick','Player_7_gold']].groupby(['Player_2_pick','Player_7_pick']).mean().reset_index()\n",
    "jug_counter['counter_Score'] = jug_counter.apply(lambda x: x['Player_2_gold']-x['Player_7_gold'], axis=1)\n",
    "mid_counter = df[['Player_3_pick','Player_3_gold','Player_8_pick','Player_8_gold']].groupby(['Player_3_pick','Player_8_pick']).mean().reset_index()\n",
    "mid_counter['counter_Score'] = mid_counter.apply(lambda x: x['Player_3_gold']-x['Player_8_gold'], axis=1)\n",
    "bot_counter = df[['Player_4_pick','Player_4_gold','Player_9_pick','Player_9_gold']].groupby(['Player_4_pick','Player_9_pick']).mean().reset_index()\n",
    "bot_counter['counter_Score'] = bot_counter.apply(lambda x: x['Player_4_gold']-x['Player_9_gold'], axis=1)\n",
    "sup_counter = df[['Player_5_pick','Player_5_gold','Player_10_pick','Player_10_gold']].groupby(['Player_5_pick','Player_10_pick']).mean().reset_index()\n",
    "sup_counter['counter_Score'] = sup_counter.apply(lambda x: x['Player_5_gold']-x['Player_10_gold'], axis=1)\n",
    "\n"
   ]
  },
  {
   "cell_type": "code",
   "execution_count": 20,
   "metadata": {},
   "outputs": [
    {
     "data": {
      "text/html": [
       "<div>\n",
       "<style scoped>\n",
       "    .dataframe tbody tr th:only-of-type {\n",
       "        vertical-align: middle;\n",
       "    }\n",
       "\n",
       "    .dataframe tbody tr th {\n",
       "        vertical-align: top;\n",
       "    }\n",
       "\n",
       "    .dataframe thead th {\n",
       "        text-align: right;\n",
       "    }\n",
       "</style>\n",
       "<table border=\"1\" class=\"dataframe\">\n",
       "  <thead>\n",
       "    <tr style=\"text-align: right;\">\n",
       "      <th></th>\n",
       "      <th>Player_1_pick</th>\n",
       "      <th>Player_6_pick</th>\n",
       "      <th>Player_1_gold</th>\n",
       "      <th>Player_6_gold</th>\n",
       "      <th>counter_Score</th>\n",
       "    </tr>\n",
       "  </thead>\n",
       "  <tbody>\n",
       "    <tr>\n",
       "      <th>5405</th>\n",
       "      <td>266</td>\n",
       "      <td>103</td>\n",
       "      <td>12821.000000</td>\n",
       "      <td>18657.000000</td>\n",
       "      <td>-5836.000000</td>\n",
       "    </tr>\n",
       "    <tr>\n",
       "      <th>5364</th>\n",
       "      <td>266</td>\n",
       "      <td>34</td>\n",
       "      <td>8399.000000</td>\n",
       "      <td>14154.000000</td>\n",
       "      <td>-5755.000000</td>\n",
       "    </tr>\n",
       "    <tr>\n",
       "      <th>5419</th>\n",
       "      <td>266</td>\n",
       "      <td>145</td>\n",
       "      <td>15046.000000</td>\n",
       "      <td>19999.000000</td>\n",
       "      <td>-4953.000000</td>\n",
       "    </tr>\n",
       "    <tr>\n",
       "      <th>5406</th>\n",
       "      <td>266</td>\n",
       "      <td>104</td>\n",
       "      <td>10352.666667</td>\n",
       "      <td>14908.333333</td>\n",
       "      <td>-4555.666667</td>\n",
       "    </tr>\n",
       "    <tr>\n",
       "      <th>5437</th>\n",
       "      <td>266</td>\n",
       "      <td>429</td>\n",
       "      <td>6061.000000</td>\n",
       "      <td>10013.000000</td>\n",
       "      <td>-3952.000000</td>\n",
       "    </tr>\n",
       "    <tr>\n",
       "      <th>...</th>\n",
       "      <td>...</td>\n",
       "      <td>...</td>\n",
       "      <td>...</td>\n",
       "      <td>...</td>\n",
       "      <td>...</td>\n",
       "    </tr>\n",
       "    <tr>\n",
       "      <th>5367</th>\n",
       "      <td>266</td>\n",
       "      <td>38</td>\n",
       "      <td>20893.000000</td>\n",
       "      <td>15439.000000</td>\n",
       "      <td>5454.000000</td>\n",
       "    </tr>\n",
       "    <tr>\n",
       "      <th>5344</th>\n",
       "      <td>266</td>\n",
       "      <td>5</td>\n",
       "      <td>10810.000000</td>\n",
       "      <td>5159.000000</td>\n",
       "      <td>5651.000000</td>\n",
       "    </tr>\n",
       "    <tr>\n",
       "      <th>5366</th>\n",
       "      <td>266</td>\n",
       "      <td>37</td>\n",
       "      <td>13056.000000</td>\n",
       "      <td>7079.000000</td>\n",
       "      <td>5977.000000</td>\n",
       "    </tr>\n",
       "    <tr>\n",
       "      <th>5363</th>\n",
       "      <td>266</td>\n",
       "      <td>33</td>\n",
       "      <td>13818.000000</td>\n",
       "      <td>6951.000000</td>\n",
       "      <td>6867.000000</td>\n",
       "    </tr>\n",
       "    <tr>\n",
       "      <th>5369</th>\n",
       "      <td>266</td>\n",
       "      <td>40</td>\n",
       "      <td>16844.000000</td>\n",
       "      <td>7924.000000</td>\n",
       "      <td>8920.000000</td>\n",
       "    </tr>\n",
       "  </tbody>\n",
       "</table>\n",
       "<p>106 rows × 5 columns</p>\n",
       "</div>"
      ],
      "text/plain": [
       "      Player_1_pick  Player_6_pick  Player_1_gold  Player_6_gold  \\\n",
       "5405            266            103   12821.000000   18657.000000   \n",
       "5364            266             34    8399.000000   14154.000000   \n",
       "5419            266            145   15046.000000   19999.000000   \n",
       "5406            266            104   10352.666667   14908.333333   \n",
       "5437            266            429    6061.000000   10013.000000   \n",
       "...             ...            ...            ...            ...   \n",
       "5367            266             38   20893.000000   15439.000000   \n",
       "5344            266              5   10810.000000    5159.000000   \n",
       "5366            266             37   13056.000000    7079.000000   \n",
       "5363            266             33   13818.000000    6951.000000   \n",
       "5369            266             40   16844.000000    7924.000000   \n",
       "\n",
       "      counter_Score  \n",
       "5405   -5836.000000  \n",
       "5364   -5755.000000  \n",
       "5419   -4953.000000  \n",
       "5406   -4555.666667  \n",
       "5437   -3952.000000  \n",
       "...             ...  \n",
       "5367    5454.000000  \n",
       "5344    5651.000000  \n",
       "5366    5977.000000  \n",
       "5363    6867.000000  \n",
       "5369    8920.000000  \n",
       "\n",
       "[106 rows x 5 columns]"
      ]
     },
     "execution_count": 20,
     "metadata": {},
     "output_type": "execute_result"
    }
   ],
   "source": [
    "top_counter.loc[top_counter['Player_1_pick']== 266].sort_values(\"counter_Score\",inplace=False)\n",
    "# top_counter.sort_values(\"counter_Score\",inplace=False)"
   ]
  },
  {
   "cell_type": "code",
   "execution_count": 6,
   "metadata": {},
   "outputs": [
    {
     "data": {
      "text/html": [
       "<div>\n",
       "<style scoped>\n",
       "    .dataframe tbody tr th:only-of-type {\n",
       "        vertical-align: middle;\n",
       "    }\n",
       "\n",
       "    .dataframe tbody tr th {\n",
       "        vertical-align: top;\n",
       "    }\n",
       "\n",
       "    .dataframe thead th {\n",
       "        text-align: right;\n",
       "    }\n",
       "</style>\n",
       "<table border=\"1\" class=\"dataframe\">\n",
       "  <thead>\n",
       "    <tr style=\"text-align: right;\">\n",
       "      <th></th>\n",
       "      <th>Player_2_pick</th>\n",
       "      <th>Player_7_pick</th>\n",
       "      <th>Player_2_gold</th>\n",
       "      <th>Player_7_gold</th>\n",
       "      <th>counter_Score</th>\n",
       "    </tr>\n",
       "  </thead>\n",
       "  <tbody>\n",
       "    <tr>\n",
       "      <th>0</th>\n",
       "      <td>1</td>\n",
       "      <td>203</td>\n",
       "      <td>10071.0</td>\n",
       "      <td>17524.000000</td>\n",
       "      <td>-7453.000000</td>\n",
       "    </tr>\n",
       "    <tr>\n",
       "      <th>1</th>\n",
       "      <td>2</td>\n",
       "      <td>5</td>\n",
       "      <td>12568.0</td>\n",
       "      <td>8272.000000</td>\n",
       "      <td>4296.000000</td>\n",
       "    </tr>\n",
       "    <tr>\n",
       "      <th>2</th>\n",
       "      <td>2</td>\n",
       "      <td>9</td>\n",
       "      <td>10704.0</td>\n",
       "      <td>8959.500000</td>\n",
       "      <td>1744.500000</td>\n",
       "    </tr>\n",
       "    <tr>\n",
       "      <th>3</th>\n",
       "      <td>2</td>\n",
       "      <td>11</td>\n",
       "      <td>12913.0</td>\n",
       "      <td>12946.000000</td>\n",
       "      <td>-33.000000</td>\n",
       "    </tr>\n",
       "    <tr>\n",
       "      <th>4</th>\n",
       "      <td>2</td>\n",
       "      <td>17</td>\n",
       "      <td>13362.0</td>\n",
       "      <td>8970.000000</td>\n",
       "      <td>4392.000000</td>\n",
       "    </tr>\n",
       "    <tr>\n",
       "      <th>...</th>\n",
       "      <td>...</td>\n",
       "      <td>...</td>\n",
       "      <td>...</td>\n",
       "      <td>...</td>\n",
       "      <td>...</td>\n",
       "    </tr>\n",
       "    <tr>\n",
       "      <th>3059</th>\n",
       "      <td>887</td>\n",
       "      <td>254</td>\n",
       "      <td>12165.0</td>\n",
       "      <td>12384.000000</td>\n",
       "      <td>-219.000000</td>\n",
       "    </tr>\n",
       "    <tr>\n",
       "      <th>3060</th>\n",
       "      <td>887</td>\n",
       "      <td>266</td>\n",
       "      <td>12061.0</td>\n",
       "      <td>8490.000000</td>\n",
       "      <td>3571.000000</td>\n",
       "    </tr>\n",
       "    <tr>\n",
       "      <th>3061</th>\n",
       "      <td>887</td>\n",
       "      <td>421</td>\n",
       "      <td>5352.0</td>\n",
       "      <td>7663.000000</td>\n",
       "      <td>-2311.000000</td>\n",
       "    </tr>\n",
       "    <tr>\n",
       "      <th>3062</th>\n",
       "      <td>887</td>\n",
       "      <td>427</td>\n",
       "      <td>12776.0</td>\n",
       "      <td>9112.000000</td>\n",
       "      <td>3664.000000</td>\n",
       "    </tr>\n",
       "    <tr>\n",
       "      <th>3063</th>\n",
       "      <td>887</td>\n",
       "      <td>876</td>\n",
       "      <td>9191.5</td>\n",
       "      <td>11356.666667</td>\n",
       "      <td>-2165.166667</td>\n",
       "    </tr>\n",
       "  </tbody>\n",
       "</table>\n",
       "<p>3064 rows × 5 columns</p>\n",
       "</div>"
      ],
      "text/plain": [
       "      Player_2_pick  Player_7_pick  Player_2_gold  Player_7_gold  \\\n",
       "0                 1            203        10071.0   17524.000000   \n",
       "1                 2              5        12568.0    8272.000000   \n",
       "2                 2              9        10704.0    8959.500000   \n",
       "3                 2             11        12913.0   12946.000000   \n",
       "4                 2             17        13362.0    8970.000000   \n",
       "...             ...            ...            ...            ...   \n",
       "3059            887            254        12165.0   12384.000000   \n",
       "3060            887            266        12061.0    8490.000000   \n",
       "3061            887            421         5352.0    7663.000000   \n",
       "3062            887            427        12776.0    9112.000000   \n",
       "3063            887            876         9191.5   11356.666667   \n",
       "\n",
       "      counter_Score  \n",
       "0      -7453.000000  \n",
       "1       4296.000000  \n",
       "2       1744.500000  \n",
       "3        -33.000000  \n",
       "4       4392.000000  \n",
       "...             ...  \n",
       "3059    -219.000000  \n",
       "3060    3571.000000  \n",
       "3061   -2311.000000  \n",
       "3062    3664.000000  \n",
       "3063   -2165.166667  \n",
       "\n",
       "[3064 rows x 5 columns]"
      ]
     },
     "execution_count": 6,
     "metadata": {},
     "output_type": "execute_result"
    }
   ],
   "source": [
    "jug_counter"
   ]
  },
  {
   "cell_type": "code",
   "execution_count": 15,
   "metadata": {},
   "outputs": [
    {
     "data": {
      "text/plain": [
       "(156,)"
      ]
     },
     "execution_count": 15,
     "metadata": {},
     "output_type": "execute_result"
    }
   ],
   "source": [
    "df['Player_1_pick'].unique().shape"
   ]
  }
 ],
 "metadata": {
  "kernelspec": {
   "display_name": "Python 3.10.5 64-bit",
   "language": "python",
   "name": "python3"
  },
  "language_info": {
   "codemirror_mode": {
    "name": "ipython",
    "version": 3
   },
   "file_extension": ".py",
   "mimetype": "text/x-python",
   "name": "python",
   "nbconvert_exporter": "python",
   "pygments_lexer": "ipython3",
   "version": "3.10.5"
  },
  "orig_nbformat": 4,
  "vscode": {
   "interpreter": {
    "hash": "6782b0a135e9e0a6eb09f945d5649012e1001589f1d1d842947a5e9954de0638"
   }
  }
 },
 "nbformat": 4,
 "nbformat_minor": 2
}
