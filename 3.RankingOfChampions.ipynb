{
 "cells": [
  {
   "cell_type": "code",
   "execution_count": 209,
   "metadata": {},
   "outputs": [],
   "source": [
    "import pandas as pd\n",
    "from tqdm import tqdm\n",
    "import os"
   ]
  },
  {
   "cell_type": "code",
   "execution_count": 210,
   "metadata": {},
   "outputs": [],
   "source": [
    "df_train_pre = pd.read_csv(\"./datasets/train_pre.csv\")\n",
    "df_train_mid = pd.read_csv(\"./datasets/train_mid.csv\")\n",
    "df_train_late = pd.read_csv(\"./datasets/train_late.csv\")\n",
    "championID = pd.read_csv(\"./datasets/championID.csv\")"
   ]
  },
  {
   "cell_type": "code",
   "execution_count": 211,
   "metadata": {},
   "outputs": [],
   "source": [
    "def pos_win_rate(df,pos,role):\n",
    "    df_win100 = df[df['teamVictory'] == 100]\n",
    "    df_win200 = df[df['teamVictory'] == 200]\n",
    "\n",
    "    # Calculate the total number of games for each champion\n",
    "    sum = []\n",
    "    for i in [pos,pos+5]:\n",
    "        sum_part = df.groupby([\"Player_\"+str(i)+\"_pick\"]).size().reset_index(name='sum')\n",
    "        sum_part.rename(columns = {\"Player_\"+str(i)+\"_pick\":'id'},inplace=True)\n",
    "        sum.append(sum_part)\n",
    "    df_sum = sum[0].merge(sum[1],on='id',how='outer')\n",
    "    df_sum.fillna(0,inplace=True)\n",
    "    df_sum[role +'_sum'] = df_sum['sum_x'] + df_sum['sum_y']\n",
    "    df_sum.drop(['sum_x','sum_y'],axis=1, inplace=True)\n",
    "    # print(df_sum)\n",
    "\n",
    "    # Calculate the number of wins for each champion\n",
    "    win_part1 = df_win100.groupby([\"Player_\"+str(pos)+\"_pick\"]).size().reset_index(name='count')\n",
    "    win_part2 = df_win200.groupby([\"Player_\"+str(pos+5)+\"_pick\"]).size().reset_index(name='count')\n",
    "    win_part1.rename(columns = {\"Player_\"+str(pos)+\"_pick\":'id'},inplace=True)\n",
    "    win_part2.rename(columns = {\"Player_\"+str(pos+5)+\"_pick\":'id'},inplace=True)\n",
    "\n",
    "    df_win =win_part1.merge(win_part2,on='id',how='outer')\n",
    "    df_win.fillna(0,inplace=True)\n",
    "    df_win[role +'_win'] = df_win['count_x']+ df_win['count_y']\n",
    "    df_win.drop(['count_x','count_y'],axis=1, inplace=True)\n",
    "    # print(df_win)\n",
    "\n",
    "    # Calculate the win rate for each champion\n",
    "    win_rate = df_sum.merge(df_win,on='id',how='left')\n",
    "    win_rate.fillna(0,inplace=True)\n",
    "    win_rate = win_rate.astype('int')\n",
    "    win_rate[role +'_winRate'] = win_rate[role +'_win']/win_rate[role +'_sum'] * 100 # The unit is percent\n",
    "\n",
    "    return win_rate.round({role +'_winRate':2})\n",
    "    "
   ]
  },
  {
   "cell_type": "code",
   "execution_count": 212,
   "metadata": {},
   "outputs": [],
   "source": [
    "def win_rate(df):\n",
    "    TOP_win_rate = pos_win_rate(df,1,\"T\")\n",
    "    JUNGLE_win_rate = pos_win_rate(df,2,\"J\")\n",
    "    MIDDLE_win_rate = pos_win_rate(df,2,\"M\")\n",
    "    BOTTOM_win_rate = pos_win_rate(df,2,\"B\")\n",
    "    UTILITY_win_rate = pos_win_rate(df,2,\"U\")\n",
    "\n",
    "    # Win rates at 5 different positions\n",
    "    champion_winRate= pd.merge(championID,TOP_win_rate,how = 'left', on ='id')\n",
    "    champion_winRate = pd.merge(champion_winRate,JUNGLE_win_rate,how = 'left', on ='id')\n",
    "    champion_winRate = pd.merge(champion_winRate,MIDDLE_win_rate,how = 'left', on ='id')\n",
    "    champion_winRate = pd.merge(champion_winRate,BOTTOM_win_rate,how = 'left', on ='id')\n",
    "    champion_winRate = pd.merge(champion_winRate,UTILITY_win_rate,how = 'left', on ='id')\n",
    "    champion_winRate.fillna(0,inplace=True)\n",
    "\n",
    "    # OverAll win rates\n",
    "    champion_winRate['Overall_sum'] = champion_winRate['T_sum']+ champion_winRate['J_sum']+champion_winRate['M_sum']+champion_winRate['B_sum']+champion_winRate['U_sum']\n",
    "    champion_winRate['Overall_win'] = champion_winRate['T_win']+ champion_winRate['J_win']+champion_winRate['M_win']+champion_winRate['B_win']+champion_winRate['U_win']\n",
    "    champion_winRate['Overall_winRate'] = champion_winRate['Overall_win']/champion_winRate['Overall_sum'] * 100\n",
    "    champion_winRate = champion_winRate.round({'Overall_winRate':2})    \n",
    "\n",
    "    # Better looking\n",
    "    columns = ['U_winRate','B_winRate','M_winRate','J_winRate','T_winRate','Overall_winRate','name','id']\n",
    "    for c in columns:\n",
    "        df_c = champion_winRate[c]\n",
    "        champion_winRate = champion_winRate.drop(c,axis=1)\n",
    "        champion_winRate.insert(0,c,df_c)\n",
    "\n",
    "    return champion_winRate\n"
   ]
  },
  {
   "cell_type": "code",
   "execution_count": 213,
   "metadata": {},
   "outputs": [],
   "source": [
    "champion_winRate_pre = win_rate(df_train_pre)\n",
    "champion_winRate_mid = win_rate(df_train_mid)\n",
    "champion_winRate_late = win_rate(df_train_late)\n",
    "\n",
    "champion_winRate_pre.to_csv(\"./datasets/championWinRate_pre.csv\", index=False)\n",
    "champion_winRate_mid.to_csv(\"./datasets/championWinRate_mid.csv\", index=False)\n",
    "champion_winRate_late.to_csv(\"./datasets/championWinRate_late.csv\", index=False)"
   ]
  }
 ],
 "metadata": {
  "kernelspec": {
   "display_name": "Python 3.9.13 ('base')",
   "language": "python",
   "name": "python3"
  },
  "language_info": {
   "codemirror_mode": {
    "name": "ipython",
    "version": 3
   },
   "file_extension": ".py",
   "mimetype": "text/x-python",
   "name": "python",
   "nbconvert_exporter": "python",
   "pygments_lexer": "ipython3",
   "version": "3.9.13"
  },
  "orig_nbformat": 4,
  "vscode": {
   "interpreter": {
    "hash": "45583788f158ccf97e8bfc8f1b755eefbab60f03e39ad2d0d5bdb17f832fcb71"
   }
  }
 },
 "nbformat": 4,
 "nbformat_minor": 2
}
