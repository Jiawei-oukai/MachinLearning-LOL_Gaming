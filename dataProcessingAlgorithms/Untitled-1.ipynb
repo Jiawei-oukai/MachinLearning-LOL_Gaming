{
 "cells": [
  {
   "cell_type": "code",
   "execution_count": 1,
   "metadata": {},
   "outputs": [],
   "source": [
    "import pandas as pd\n",
    "from tqdm import tqdm\n",
    "import os"
   ]
  },
  {
   "cell_type": "code",
   "execution_count": 5,
   "metadata": {},
   "outputs": [],
   "source": [
    "from ChampionNameMapping import ChampionNameMapping"
   ]
  },
  {
   "cell_type": "code",
   "execution_count": 6,
   "metadata": {},
   "outputs": [],
   "source": [
    "namelist = [\"Ornn\",\"Camille\",\"Olaf\",\"Lucian\",\"Yasuo\",\"Jayce\",\"Lee Sin\",\"Ryze\",\"Jinx\",\"Leona\"]"
   ]
  },
  {
   "cell_type": "code",
   "execution_count": 7,
   "metadata": {},
   "outputs": [
    {
     "name": "stdout",
     "output_type": "stream",
     "text": [
      "attack: \n",
      "[410.39, 461.16, 523.97, 521.73, 460.0, 549.02, 427.98, 439.75, 477.06, 169.23]\n",
      "\n",
      "\n",
      "defense: \n",
      "[699.28, 667.9, 726.07, 527.27, 586.55, 554.26, 850.87, 601.26, 484.41, 502.65]\n",
      "\n",
      "\n"
     ]
    }
   ],
   "source": [
    "f = ChampionNameMapping(namelist)\n",
    "f.mapping_all(\"pre\")"
   ]
  },
  {
   "cell_type": "code",
   "execution_count": 11,
   "metadata": {},
   "outputs": [],
   "source": [
    "df = pd.read_csv(\"../Useful Features/2.championCombo.csv\")\n",
    "df.drop(['combo'], axis = 1,inplace=True)\n",
    "df.columns = ['champion1','id1','champion2','id2']\n",
    "df.to_csv(\"../Useful Features/2.championCombo.csv\", index=False)"
   ]
  }
 ],
 "metadata": {
  "kernelspec": {
   "display_name": "Python 3.9.13 ('base')",
   "language": "python",
   "name": "python3"
  },
  "language_info": {
   "codemirror_mode": {
    "name": "ipython",
    "version": 3
   },
   "file_extension": ".py",
   "mimetype": "text/x-python",
   "name": "python",
   "nbconvert_exporter": "python",
   "pygments_lexer": "ipython3",
   "version": "3.9.13"
  },
  "orig_nbformat": 4,
  "vscode": {
   "interpreter": {
    "hash": "45583788f158ccf97e8bfc8f1b755eefbab60f03e39ad2d0d5bdb17f832fcb71"
   }
  }
 },
 "nbformat": 4,
 "nbformat_minor": 2
}
