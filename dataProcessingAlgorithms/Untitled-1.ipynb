{
 "cells": [
  {
   "cell_type": "code",
   "execution_count": 1,
   "metadata": {},
   "outputs": [],
   "source": [
    "import pandas as pd\n",
    "from tqdm import tqdm\n",
    "import os"
   ]
  },
  {
   "cell_type": "code",
   "execution_count": 5,
   "metadata": {},
   "outputs": [],
   "source": [
    "from ChampionNameMapping import ChampionNameMapping"
   ]
  },
  {
   "cell_type": "code",
   "execution_count": 6,
   "metadata": {},
   "outputs": [],
   "source": [
    "namelist = [\"Ornn\",\"Camille\",\"Olaf\",\"Lucian\",\"Yasuo\",\"Jayce\",\"Lee Sin\",\"Ryze\",\"Jinx\",\"Leona\"]"
   ]
  },
  {
   "cell_type": "code",
   "execution_count": 7,
   "metadata": {},
   "outputs": [
    {
     "name": "stdout",
     "output_type": "stream",
     "text": [
      "attack: \n",
      "[410.39, 461.16, 523.97, 521.73, 460.0, 549.02, 427.98, 439.75, 477.06, 169.23]\n",
      "\n",
      "\n",
      "defense: \n",
      "[699.28, 667.9, 726.07, 527.27, 586.55, 554.26, 850.87, 601.26, 484.41, 502.65]\n",
      "\n",
      "\n"
     ]
    }
   ],
   "source": [
    "f = ChampionNameMapping(namelist)\n",
    "f.mapping_all(\"pre\")"
   ]
  },
  {
   "cell_type": "code",
   "execution_count": 35,
   "metadata": {},
   "outputs": [
    {
     "name": "stdout",
     "output_type": "stream",
     "text": [
      "<class 'pandas.core.frame.DataFrame'>\n",
      "RangeIndex: 64 entries, 0 to 63\n",
      "Data columns (total 4 columns):\n",
      " #   Column     Non-Null Count  Dtype \n",
      "---  ------     --------------  ----- \n",
      " 0   champion1  64 non-null     string\n",
      " 1   id1        64 non-null     int64 \n",
      " 2   champion2  64 non-null     string\n",
      " 3   id2        64 non-null     int64 \n",
      "dtypes: int64(2), string(2)\n",
      "memory usage: 2.1 KB\n"
     ]
    }
   ],
   "source": [
    "df = pd.read_csv(\"../Useful Features/2.championCombo.csv\")\n",
    "\n",
    "df['champion1'] = df['champion1'].astype('string')\n",
    "df['champion2'] = df['champion2'].astype('string')\n",
    "    \n",
    "\n",
    "df.info()"
   ]
  },
  {
   "cell_type": "code",
   "execution_count": 38,
   "metadata": {},
   "outputs": [
    {
     "ename": "TypeError",
     "evalue": "'method' object is not iterable",
     "output_type": "error",
     "traceback": [
      "\u001b[0;31m---------------------------------------------------------------------------\u001b[0m",
      "\u001b[0;31mTypeError\u001b[0m                                 Traceback (most recent call last)",
      "\u001b[0;32m/var/folders/9r/4qn8djgj1_g7m5m_fylb0s7w0000gn/T/ipykernel_31453/212228552.py\u001b[0m in \u001b[0;36m<module>\u001b[0;34m\u001b[0m\n\u001b[0;32m----> 1\u001b[0;31m \u001b[0;32mfor\u001b[0m \u001b[0mindex\u001b[0m\u001b[0;34m,\u001b[0m \u001b[0mrow\u001b[0m \u001b[0;32min\u001b[0m \u001b[0mdf\u001b[0m\u001b[0;34m.\u001b[0m\u001b[0miterrows\u001b[0m\u001b[0;34m:\u001b[0m\u001b[0;34m\u001b[0m\u001b[0;34m\u001b[0m\u001b[0m\n\u001b[0m\u001b[1;32m      2\u001b[0m     \u001b[0mprint\u001b[0m \u001b[0;34m(\u001b[0m\u001b[0mindex\u001b[0m\u001b[0;34m)\u001b[0m\u001b[0;34m\u001b[0m\u001b[0;34m\u001b[0m\u001b[0m\n",
      "\u001b[0;31mTypeError\u001b[0m: 'method' object is not iterable"
     ]
    }
   ],
   "source": [
    "for index, row in df.iterrows:\n",
    "    print (index)"
   ]
  },
  {
   "cell_type": "code",
   "execution_count": 19,
   "metadata": {},
   "outputs": [
    {
     "name": "stdout",
     "output_type": "stream",
     "text": [
      "True\n"
     ]
    }
   ],
   "source": [
    "a = [{1,2},{2,3}]\n",
    "print ({2,1} in a)"
   ]
  }
 ],
 "metadata": {
  "kernelspec": {
   "display_name": "Python 3.9.13 ('base')",
   "language": "python",
   "name": "python3"
  },
  "language_info": {
   "codemirror_mode": {
    "name": "ipython",
    "version": 3
   },
   "file_extension": ".py",
   "mimetype": "text/x-python",
   "name": "python",
   "nbconvert_exporter": "python",
   "pygments_lexer": "ipython3",
   "version": "3.9.13"
  },
  "orig_nbformat": 4,
  "vscode": {
   "interpreter": {
    "hash": "45583788f158ccf97e8bfc8f1b755eefbab60f03e39ad2d0d5bdb17f832fcb71"
   }
  }
 },
 "nbformat": 4,
 "nbformat_minor": 2
}
