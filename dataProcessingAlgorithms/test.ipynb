{
 "cells": [
  {
   "cell_type": "code",
   "execution_count": 1,
   "metadata": {},
   "outputs": [],
   "source": [
    "import GenerateInputDataForMLModel\n",
    "\n",
    "from ChampionNameMapping import ChampionNameMapping\n",
    "import pandas as pd\n"
   ]
  },
  {
   "cell_type": "code",
   "execution_count": 2,
   "metadata": {},
   "outputs": [],
   "source": [
    "df_train_pre = pd.read_csv(\"../datasets/train_pre.csv\")\n",
    "df_train_mid = pd.read_csv(\"../datasets/train_mid.csv\")\n",
    "df_train_late = pd.read_csv(\"../datasets/train_late.csv\")\n"
   ]
  },
  {
   "cell_type": "code",
   "execution_count": null,
   "metadata": {},
   "outputs": [],
   "source": [
    "# selected features\n",
    "dt_pre = GenerateInputDataForMLModel.to_decisionTreeData(df_train_pre,\"pre\")\n",
    "#dt_pre.to_csv(\"../datasets/decisionTree_feature_data/train_pre.csv\")"
   ]
  },
  {
   "cell_type": "code",
   "execution_count": 5,
   "metadata": {},
   "outputs": [
    {
     "name": "stderr",
     "output_type": "stream",
     "text": [
      "48770it [34:22, 23.64it/s]\n"
     ]
    }
   ],
   "source": [
    "dt_mid = GenerateInputDataForMLModel.to_decisionTreeData(df_train_mid,\"mid\")\n",
    "dt_mid.to_csv(\"../datasets/decisionTree_feature_data/train_mid.csv\",index=False)"
   ]
  },
  {
   "cell_type": "code",
   "execution_count": null,
   "metadata": {},
   "outputs": [],
   "source": [
    "dt_late = GenerateInputDataForMLModel.to_decisionTreeData(df_train_late,\"late\")\n",
    "dt_late.to_csv(\"../datasets/decisionTree_feature_data/train_late.csv\",index=False)"
   ]
  },
  {
   "cell_type": "code",
   "execution_count": 3,
   "metadata": {},
   "outputs": [
    {
     "name": "stderr",
     "output_type": "stream",
     "text": [
      "9850it [05:35, 29.39it/s]\n"
     ]
    }
   ],
   "source": [
    "# all features\n",
    "all_pre = GenerateInputDataForMLModel.to_logisticRegressionData(df_train_pre,\"pre\")\n",
    "all_pre.to_csv(\"../datasets/logisticRegression_feature_data/train_pre.csv\",index=False)"
   ]
  },
  {
   "cell_type": "code",
   "execution_count": 4,
   "metadata": {},
   "outputs": [],
   "source": [
    "championIds = [10,76,777,81,40,79,107,50,429,44]"
   ]
  },
  {
   "cell_type": "code",
   "execution_count": 8,
   "metadata": {},
   "outputs": [
    {
     "data": {
      "text/plain": [
       "[51.24, 56.48, 50.88, 43.84, 47.71, 52.87, 52.52, 47.99, 55.49, 53.65]"
      ]
     },
     "execution_count": 8,
     "metadata": {},
     "output_type": "execute_result"
    }
   ],
   "source": [
    "prefix = \"../Useful Features/3.championWinRate_\"\n",
    "suffix = \".csv\"\n",
    "path = prefix+\"pre\"+suffix\n",
    "        \n",
    "win_rates =[]\n",
    "df = pd.read_csv(path)\n",
    "role = [\"T\",\"J\",\"M\",\"B\",\"U\",\"T\",\"J\",\"M\",\"B\",\"U\"]\n",
    "for i in range(10):\n",
    "    win_rate = df[role[i]+\"_winRate\"].loc[df['id']==championIds[i]].iloc[0]\n",
    "    win_rates.append(win_rate)\n",
    "\n",
    "win_rates\n"
   ]
  },
  {
   "cell_type": "code",
   "execution_count": 24,
   "metadata": {},
   "outputs": [
    {
     "data": {
      "text/plain": [
       "516.89"
      ]
     },
     "execution_count": 24,
     "metadata": {},
     "output_type": "execute_result"
    }
   ],
   "source": [
    "attack = df.loc[df['id']==777]['attack_score'].iloc[0]\n",
    "attack"
   ]
  },
  {
   "cell_type": "code",
   "execution_count": null,
   "metadata": {},
   "outputs": [],
   "source": [
    "all_mid = GenerateInputDataForMLModel.to_logisticRegressionData(df_train_mid,\"mid\")\n",
    "all_mid.to_csv(\"../datasets/logisticRegression_feature_data/train_mid.csv\",index=False)"
   ]
  },
  {
   "cell_type": "code",
   "execution_count": null,
   "metadata": {},
   "outputs": [],
   "source": [
    "all_late = GenerateInputDataForMLModel.to_logisticRegressionData(df_train_late,\"late\")\n",
    "all_late.to_csv(\"../datasets/logisticRegression_feature_data/train_late.csv\",index=False)"
   ]
  }
 ],
 "metadata": {
  "kernelspec": {
   "display_name": "Python 3.9.13 ('base')",
   "language": "python",
   "name": "python3"
  },
  "language_info": {
   "codemirror_mode": {
    "name": "ipython",
    "version": 3
   },
   "file_extension": ".py",
   "mimetype": "text/x-python",
   "name": "python",
   "nbconvert_exporter": "python",
   "pygments_lexer": "ipython3",
   "version": "3.9.13"
  },
  "orig_nbformat": 4,
  "vscode": {
   "interpreter": {
    "hash": "45583788f158ccf97e8bfc8f1b755eefbab60f03e39ad2d0d5bdb17f832fcb71"
   }
  }
 },
 "nbformat": 4,
 "nbformat_minor": 2
}
