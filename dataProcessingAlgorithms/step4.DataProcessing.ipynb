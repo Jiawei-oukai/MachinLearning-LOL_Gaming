{
 "cells": [
  {
   "cell_type": "code",
   "execution_count": 100,
   "metadata": {},
   "outputs": [],
   "source": [
    "import pandas as pd\n",
    "from tqdm import tqdm\n",
    "import os"
   ]
  },
  {
   "cell_type": "code",
   "execution_count": 101,
   "metadata": {},
   "outputs": [],
   "source": [
    "data_train = pd.read_csv(\"../datasets/merged_data/train.csv\")\n",
    "data_test= pd.read_csv(\"../datasets/merged_data/test.csv\")\n",
    "data_val = pd.read_csv(\"../datasets/merged_data/val.csv\")"
   ]
  },
  {
   "cell_type": "code",
   "execution_count": 102,
   "metadata": {},
   "outputs": [],
   "source": [
    "'''\n",
    "Step1.Drop Useless columns: \n",
    "matchId\n",
    "gameVersion\n",
    "Player_id\n",
    "\n",
    "Player_1_ban\n",
    "Player_1_ban_turn\n",
    "Player_1_role\n",
    "Player_1_team\n",
    "Player_1_victory\n",
    "...\n",
    "\n",
    "Step2.Adjust misplaced data\n",
    "\n",
    "'''\n",
    "\n",
    "# define useless columns\n",
    "drop_columns = ['matchId','gameVersion','Player_id']\n",
    "prefix = \"Player_\"\n",
    "suffixs =[\"_ban\",\"_ban_turn\",\"_role\",\"_team\",\"_victory\"]\n",
    "for i in range(1,11):\n",
    "    for suffix in suffixs:\n",
    "        drop_columns.append(prefix+str(i)+suffix)\n",
    "\n",
    " "
   ]
  },
  {
   "cell_type": "code",
   "execution_count": 103,
   "metadata": {},
   "outputs": [],
   "source": [
    "def data_process(df):\n",
    "    #drop null value\n",
    "    df.dropna(axis=0, how='any', inplace=True)\n",
    "    #drop useless columns\n",
    "    df.drop(drop_columns, axis=1, inplace=True)\n",
    "    #convert column \"Player_i_postion\" from object to string\n",
    "    for i in range(1,11):\n",
    "        df[prefix+str(i)+\"_position\"] = df[prefix+str(i)+\"_position\"].astype('string')\n",
    "    \n",
    "    return df"
   ]
  },
  {
   "cell_type": "code",
   "execution_count": 104,
   "metadata": {},
   "outputs": [],
   "source": [
    "def pos_sort(df):\n",
    "    '''\n",
    "    Adjust misplaced data\n",
    "    '''\n",
    "\n",
    "    # find misplaced data\n",
    "    condition = (df['Player_1_position'] == \"TOP\") & (df['Player_2_position'] == \"JUNGLE\") & (df['Player_3_position'] == \"MIDDLE\") & (df['Player_4_position'] == \"BOTTOM\") & (df['Player_5_position'] == \"UTILITY\") & (df['Player_6_position'] == \"TOP\") & (df['Player_7_position'] == \"JUNGLE\") & (df['Player_8_position'] == \"MIDDLE\") & (df['Player_9_position'] == \"BOTTOM\") & (df['Player_10_position'] == \"UTILITY\")\n",
    "\n",
    "    df_correct = df[condition]\n",
    "    df_wrong = df[~condition]\n",
    "\n",
    "\n",
    "     # correct misplaced data\n",
    "    copy = [\"gameId\", \"gameDuration\",\"teamVictory\",\"team_100_gold\",\"team_200_gold\"]\n",
    "    keys = [\"_pick\",\"_position\",\"_time_game\",\"_gold\",\"_xp\",\"_dmg_dealt\",\"_dmg_taken\",\"_time_ccing\"]\n",
    "    role = [\"\",\"TOP\",\"JUNGLE\",\"MIDDLE\",\"BOTTOM\",\"UTILITY\",\"TOP\",\"JUNGLE\",\"MIDDLE\",\"BOTTOM\",\"UTILITY\"]\n",
    "    teams = [[1,2,3,4,5],[6,7,8,9,10]]\n",
    "\n",
    "    df_tmp = pd.DataFrame(columns=df_wrong.columns.tolist())\n",
    "    for index, row in tqdm(df_wrong.iterrows()):\n",
    "        value = []\n",
    "        for c in copy:\n",
    "            value.append(row[c])\n",
    "        for team in teams:\n",
    "            for j in team:\n",
    "                if row[\"Player_\"+str(j)+\"_position\"] != role[j]:\n",
    "                    #print (\"Player_\"+str(j)+\"_position no\")\n",
    "                    otherp = set(team)-{j}\n",
    "                    for i in otherp:\n",
    "                        if row[\"Player_\"+str(i)+\"_position\"] == role[j]:\n",
    "                            for key in keys:\n",
    "                                value.append(row[\"Player_\"+str(i)+key])\n",
    "                            break\n",
    "                else:\n",
    "                    #print (\"Player_\"+str(j)+\"_position yes\")\n",
    "                    for key in keys:\n",
    "                        value.append(row[\"Player_\"+str(j)+key])\n",
    "        df_tmp.loc[len(df_tmp.index)] = value\n",
    "    \n",
    "    df_allcorrect = pd.concat([df_correct,df_tmp]).reset_index(drop=True)\n",
    "\n",
    "    # return corrected data\n",
    "    return df_allcorrect"
   ]
  },
  {
   "cell_type": "code",
   "execution_count": 105,
   "metadata": {},
   "outputs": [
    {
     "name": "stderr",
     "output_type": "stream",
     "text": [
      "1358it [00:15, 84.98it/s]\n",
      "1398it [00:16, 83.94it/s]\n"
     ]
    }
   ],
   "source": [
    "df_sorted_test = pos_sort(data_process(data_test))\n",
    "df_sorted_val = pos_sort(data_process(data_val))\n",
    "df_sorted_train = pos_sort(data_process(data_train))\n"
   ]
  },
  {
   "cell_type": "code",
   "execution_count": 108,
   "metadata": {},
   "outputs": [],
   "source": [
    "df_sorted_test.to_csv(\"../datasets/pos_sorted_data/test.csv\", index= False)\n",
    "df_sorted_val.to_csv(\"../datasets/pos_sorted_data/val.csv\", index= False)\n",
    "df_sorted_train.to_csv(\"../datasets/pos_sorted_data/train.csv\", index= False)"
   ]
  }
 ],
 "metadata": {
  "kernelspec": {
   "display_name": "Python 3.9.13 ('base')",
   "language": "python",
   "name": "python3"
  },
  "language_info": {
   "codemirror_mode": {
    "name": "ipython",
    "version": 3
   },
   "file_extension": ".py",
   "mimetype": "text/x-python",
   "name": "python",
   "nbconvert_exporter": "python",
   "pygments_lexer": "ipython3",
   "version": "3.9.13"
  },
  "orig_nbformat": 4,
  "vscode": {
   "interpreter": {
    "hash": "45583788f158ccf97e8bfc8f1b755eefbab60f03e39ad2d0d5bdb17f832fcb71"
   }
  }
 },
 "nbformat": 4,
 "nbformat_minor": 2
}
