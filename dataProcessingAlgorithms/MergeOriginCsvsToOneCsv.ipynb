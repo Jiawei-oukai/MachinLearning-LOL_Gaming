{
 "cells": [
  {
   "cell_type": "code",
   "execution_count": null,
   "metadata": {},
   "outputs": [],
   "source": [
    "import os, glob\n",
    "import pandas as pd\n",
    "\n",
    "path = [\"../datasets/origin/12.12.-splits/train/\",\"../datasets/origin/12.12.-splits/test/\",\"../datasets/origin/12.12.-splits/val/\"]\n",
    "name = [\"df_train\",\"df_test\",\"df_val\"]"
   ]
  },
  {
   "cell_type": "code",
   "execution_count": null,
   "metadata": {},
   "outputs": [],
   "source": [
    "for i in range (3):\n",
    "    all_df = glob.glob(os.path.join(path[i], \"df_*.csv\"))\n",
    "    df_from_each_file = (pd.read_csv(f, sep=',') for f in all_df)\n",
    "    df_merged  = pd.concat(df_from_each_file, ignore_index=True)\n",
    "    df_merged.to_csv( name[i]+\".csv\")"
   ]
  },
  {
   "cell_type": "code",
   "execution_count": null,
   "metadata": {},
   "outputs": [],
   "source": [
    "data_train = pd.read_csv(\"df_train.csv\")\n",
    "data_test = pd.read_csv(\"df_test.csv\")\n",
    "data_val = pd.read_csv(\"df_val.csv\")\n",
    "\n",
    "data_train = data_train.loc[:,'gameId':]\n",
    "data_test = data_test.loc[:,'gameId':]\n",
    "data_val = data_val.loc[:,'gameId':]\n",
    "\n",
    "# already exist don't run it again\n",
    "data_train.to_csv( \"../datasets/train.csv\")\n",
    "data_test.to_csv( \"../datasets/test.csv\")\n",
    "data_val.to_csv( \"../datasets/val.csv\")"
   ]
  }
 ],
 "metadata": {
  "kernelspec": {
   "display_name": "Python 3.9.13 ('base')",
   "language": "python",
   "name": "python3"
  },
  "language_info": {
   "name": "python",
   "version": "3.9.13"
  },
  "orig_nbformat": 4,
  "vscode": {
   "interpreter": {
    "hash": "45583788f158ccf97e8bfc8f1b755eefbab60f03e39ad2d0d5bdb17f832fcb71"
   }
  }
 },
 "nbformat": 4,
 "nbformat_minor": 2
}
