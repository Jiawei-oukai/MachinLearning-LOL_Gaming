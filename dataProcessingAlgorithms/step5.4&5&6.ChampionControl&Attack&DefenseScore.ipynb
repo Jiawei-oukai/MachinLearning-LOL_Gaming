{
 "cells": [
  {
   "cell_type": "code",
   "execution_count": 18,
   "metadata": {},
   "outputs": [],
   "source": [
    "import pandas as pd\n",
    "from tqdm import tqdm\n",
    "import os"
   ]
  },
  {
   "cell_type": "markdown",
   "metadata": {},
   "source": [
    "champion control score unit is seconds per minute"
   ]
  },
  {
   "cell_type": "code",
   "execution_count": 19,
   "metadata": {},
   "outputs": [
    {
     "data": {
      "text/plain": [
       "'\\n1.champion control score unit is seconds per minute\\n2.Made with the average of all games, there is no division between the pre, middle or late stages\\n'"
      ]
     },
     "execution_count": 19,
     "metadata": {},
     "output_type": "execute_result"
    }
   ],
   "source": [
    "'''\n",
    "1.champion control score unit is seconds per minute\n",
    "2.Made with the average of all games, there is no division between the pre, middle or late stages\n",
    "'''"
   ]
  },
  {
   "cell_type": "code",
   "execution_count": 20,
   "metadata": {},
   "outputs": [],
   "source": [
    "df_train_pre = pd.read_csv(\"../datasets/train_pre.csv\")\n",
    "df_train_mid = pd.read_csv(\"../datasets/train_mid.csv\")\n",
    "df_train_late = pd.read_csv(\"../datasets/train_late.csv\")\n",
    "df_train = pd.read_csv(\"../datasets/processed_data/train.csv\")\n",
    "championID = pd.read_csv(\"../datasets/championID.csv\")"
   ]
  },
  {
   "cell_type": "code",
   "execution_count": 4,
   "metadata": {},
   "outputs": [],
   "source": [
    "def attack_defense_score(df):\n",
    "    dfs = []\n",
    "    for i in range(1,11):\n",
    "        df_tmp = df.loc[:,['gameDuration','Player_'+str(i)+'_pick','Player_'+str(i)+'_dmg_dealt','Player_'+str(i)+'_dmg_taken']]\n",
    "        df_tmp['atk'] = df_tmp['Player_'+str(i)+'_dmg_dealt']/df['gameDuration']*60\n",
    "        df_tmp['def'] = df_tmp['Player_'+str(i)+'_dmg_taken']/df['gameDuration']*60\n",
    "\n",
    "        df_sum = df_tmp.groupby(['Player_'+str(i)+'_pick']).size().reset_index(name='sum'+str(i))\n",
    "        df_atk = df_tmp.groupby(['Player_'+str(i)+'_pick'])['atk'].sum().reset_index(name='atk'+str(i))\n",
    "        df_def = df_tmp.groupby(['Player_'+str(i)+'_pick'])['def'].sum().reset_index(name='def'+str(i))\n",
    "\n",
    "        atk_def = df_sum.merge(df_atk, on = ['Player_'+str(i)+'_pick'])\n",
    "        atk_def = atk_def.merge(df_def, on = ['Player_'+str(i)+'_pick'])\n",
    "\n",
    "        atk_def.rename(columns = {\"Player_\"+str(i)+\"_pick\":'id'},inplace=True)\n",
    "        dfs.append(atk_def)\n",
    "\n",
    "    ads = championID.merge(dfs[0],on='id',how = 'left')\n",
    "    for i in range(1,10):\n",
    "        ads = ads.merge(dfs[i],on='id',how = 'left')\n",
    "    ads.fillna(0,inplace=True)\n",
    "    \n",
    "    ads['sum'] = ads['sum1']+ads['sum2']+ads['sum3']+ads['sum4']+ads['sum5']+ads['sum6']+ads['sum7']+ads['sum8']+ads['sum9']+ads['sum10'] \n",
    "    ads['atk'] = ads['atk1']+ads['atk2']+ads['atk3']+ads['atk4']+ads['atk5']+ads['atk6']+ads['atk7']+ads['atk8']+ads['atk9']+ads['atk10']\n",
    "    ads['def'] = ads['def1']+ads['def2']+ads['def3']+ads['def4']+ads['def5']+ads['def6']+ads['def7']+ads['def8']+ads['def9']+ads['def10']  \n",
    "    ads['attack_score'] = ads['atk']/ads['sum']\n",
    "    ads['defense_score'] = ads['def']/ads['sum']\n",
    "    championAttackDefenseScore = ads.loc[:,['id','name','attack_score','defense_score']]\n",
    "    championAttackDefenseScore = championAttackDefenseScore.round(2)\n",
    "    return championAttackDefenseScore\n",
    "    "
   ]
  },
  {
   "cell_type": "code",
   "execution_count": 5,
   "metadata": {},
   "outputs": [],
   "source": [
    "def control_score(df):\n",
    "    dfs = []\n",
    "    for i in range(1,11):\n",
    "        df_tmp = df.loc[:,['gameDuration','Player_'+str(i)+'_pick','Player_'+str(i)+'_time_ccing']]\n",
    "        df_tmp['control_score'] = df_tmp['Player_'+str(i)+'_time_ccing']/df['gameDuration']*60\n",
    "        df_sum = df_tmp.groupby(['Player_'+str(i)+'_pick']).size().reset_index(name='sum'+str(i))\n",
    "        df_con = df_tmp.groupby(['Player_'+str(i)+'_pick'])['control_score'].sum().reset_index(name='control_sum'+str(i))\n",
    "        control = df_sum.merge(df_con, on = ['Player_'+str(i)+'_pick'])\n",
    "        control.rename(columns = {\"Player_\"+str(i)+\"_pick\":'id'},inplace=True)\n",
    "        dfs.append(control)\n",
    "\n",
    "    cs = championID.merge(dfs[0],on='id',how = 'left')\n",
    "    for i in range(1,10):\n",
    "        cs = cs.merge(dfs[i],on='id',how = 'left')\n",
    "    cs.fillna(0,inplace=True)\n",
    "    \n",
    "    cs['sum'] = cs['sum1']+cs['sum2']+cs['sum3']+cs['sum4']+cs['sum5']+cs['sum6']+cs['sum7']+cs['sum8']+cs['sum9']+cs['sum10'] \n",
    "    cs['control_sum'] = cs['control_sum1']+cs['control_sum2']+cs['control_sum3']+cs['control_sum4']+cs['control_sum5']+cs['control_sum6']+cs['control_sum7']+cs['control_sum8']+cs['control_sum9']+cs['control_sum10'] \n",
    "    cs['control_score'] = cs['control_sum']/cs['sum']\n",
    "    \n",
    "    championControlScore = cs.loc[:,['id','name','control_score']]\n",
    "    championControlScore = championControlScore.round(4)\n",
    "    return championControlScore\n",
    "    \n"
   ]
  },
  {
   "cell_type": "code",
   "execution_count": 6,
   "metadata": {},
   "outputs": [],
   "source": [
    "championAttackDefenseScore_pre = attack_defense_score(df_train_pre)\n",
    "championAttackDefenseScore_mid = attack_defense_score(df_train_mid)\n",
    "championAttackDefenseScore_late = attack_defense_score(df_train_late)\n",
    "\n",
    "championAttackDefenseScore_pre.to_csv(\"../Useful Features/4.championAttackDefenseScore_pre.csv\", index=False)\n",
    "championAttackDefenseScore_mid.to_csv(\"../Useful Features/4.championAttackDefenseScore_mid.csv\", index=False)\n",
    "championAttackDefenseScore_late.to_csv(\"../Useful Features/4.championAttackDefenseScore_late.csv\", index=False)"
   ]
  },
  {
   "cell_type": "code",
   "execution_count": 7,
   "metadata": {},
   "outputs": [],
   "source": [
    "championControlScore = control_score(df_train)\n",
    "championControlScore.to_csv(\"../Useful Features/5.championControlScore.csv\", index = False)"
   ]
  },
  {
   "cell_type": "code",
   "execution_count": 24,
   "metadata": {},
   "outputs": [],
   "source": [
    "def gold_ability(df):\n",
    "    dfs = []\n",
    "    for i in range(1,11):\n",
    "        df_tmp = df.loc[:,['gameDuration','Player_'+str(i)+'_pick','Player_'+str(i)+'_gold']]\n",
    "        df_tmp['gold_per_min'] = df_tmp['Player_'+str(i)+'_gold']/df['gameDuration'] * 60\n",
    "        df_sum = df_tmp.groupby(['Player_'+str(i)+'_pick']).size().reset_index(name='sum'+str(i))\n",
    "        df_g = df_tmp.groupby(['Player_'+str(i)+'_pick'])['gold_per_min'].sum().reset_index(name='gold_sum'+str(i))\n",
    "        control = df_sum.merge(df_g, on = ['Player_'+str(i)+'_pick'])\n",
    "        control.rename(columns = {\"Player_\"+str(i)+\"_pick\":'id'},inplace=True)\n",
    "        dfs.append(control)\n",
    "\n",
    "    cs = championID.merge(dfs[0],on='id',how = 'left')\n",
    "    for i in range(1,10):\n",
    "        cs = cs.merge(dfs[i],on='id',how = 'left')\n",
    "    cs.fillna(0,inplace=True)\n",
    "    \n",
    "    cs['sum'] = cs['sum1']+cs['sum2']+cs['sum3']+cs['sum4']+cs['sum5']+cs['sum6']+cs['sum7']+cs['sum8']+cs['sum9']+cs['sum10'] \n",
    "    cs['gold_sum'] = cs['gold_sum1']+cs['gold_sum2']+cs['gold_sum3']+cs['gold_sum4']+cs['gold_sum5']+cs['gold_sum6']+cs['gold_sum7']+cs['gold_sum8']+cs['gold_sum9']+cs['gold_sum10']  \n",
    "    # cs['gold_sum']  = 0\n",
    "    # for i in range(1,11):\n",
    "    #     cs['gold_sum'] += cs['gold_sum'+str(i)] * cs['sum' + str(i)]\n",
    "    \n",
    "    cs['gold_ability'] = cs['gold_sum'] / cs['sum']\n",
    "    championGoldAbility = cs.loc[:,['id','name','gold_ability']]\n",
    "    championGoldAbility = championGoldAbility.round(4)\n",
    "    return championGoldAbility"
   ]
  },
  {
   "cell_type": "code",
   "execution_count": 28,
   "metadata": {},
   "outputs": [],
   "source": [
    "championGoldAbility_pre = gold_ability(df_train_pre)\n",
    "championGoldAbility_mid = gold_ability(df_train_mid)\n",
    "championGoldAbility_late = gold_ability(df_train_late)"
   ]
  },
  {
   "cell_type": "code",
   "execution_count": 29,
   "metadata": {},
   "outputs": [],
   "source": [
    "championGoldAbility_pre.to_csv(\"../Useful Features/6.championGoldAbility_pre1.csv\", index=False)\n",
    "championGoldAbility_mid.to_csv(\"../Useful Features/6.championGoldAbility_mid1.csv\", index=False)\n",
    "championGoldAbility_late.to_csv(\"../Useful Features/6.championGoldAbility_late1.csv\", index=False)"
   ]
  }
 ],
 "metadata": {
  "kernelspec": {
   "display_name": "Python 3.9.13 ('base')",
   "language": "python",
   "name": "python3"
  },
  "language_info": {
   "codemirror_mode": {
    "name": "ipython",
    "version": 3
   },
   "file_extension": ".py",
   "mimetype": "text/x-python",
   "name": "python",
   "nbconvert_exporter": "python",
   "pygments_lexer": "ipython3",
   "version": "3.9.13 (main, Aug 25 2022, 18:29:29) \n[Clang 12.0.0 ]"
  },
  "orig_nbformat": 4,
  "vscode": {
   "interpreter": {
    "hash": "45583788f158ccf97e8bfc8f1b755eefbab60f03e39ad2d0d5bdb17f832fcb71"
   }
  }
 },
 "nbformat": 4,
 "nbformat_minor": 2
}
