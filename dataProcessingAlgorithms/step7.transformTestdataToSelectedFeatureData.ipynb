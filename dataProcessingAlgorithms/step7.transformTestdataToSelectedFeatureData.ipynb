{
 "cells": [
  {
   "cell_type": "code",
   "execution_count": 7,
   "metadata": {},
   "outputs": [],
   "source": [
    "import GenerateInputDataForMLModel\n",
    "from ChampionNameMapping import ChampionNameMapping\n",
    "import pandas as pd"
   ]
  },
  {
   "cell_type": "code",
   "execution_count": 8,
   "metadata": {},
   "outputs": [],
   "source": [
    "df_test_pre = pd.read_csv(\"../datasets/val_pre.csv\")\n",
    "df_test_mid = pd.read_csv(\"../datasets/val_mid.csv\")\n",
    "df_test_late = pd.read_csv(\"../datasets/val_late.csv\")"
   ]
  },
  {
   "cell_type": "code",
   "execution_count": 9,
   "metadata": {},
   "outputs": [
    {
     "name": "stderr",
     "output_type": "stream",
     "text": [
      "522it [00:12, 41.58it/s]\n",
      "2697it [01:08, 39.62it/s]\n",
      "1536it [00:38, 39.76it/s]\n"
     ]
    }
   ],
   "source": [
    "# comparison features\n",
    "dt_pre = GenerateInputDataForMLModel.to_comparisonFeatureData(df_test_pre,\"pre\")\n",
    "dt_pre.to_csv(\"../datasets/comparison_feature_data/test_pre.csv\",index=False)\n",
    "\n",
    "dt_mid = GenerateInputDataForMLModel.to_comparisonFeatureData(df_test_mid,\"mid\")\n",
    "dt_mid.to_csv(\"../datasets/comparison_feature_data/test_mid.csv\",index=False)\n",
    "\n",
    "dt_late = GenerateInputDataForMLModel.to_comparisonFeatureData(df_test_late,\"late\")\n",
    "dt_late.to_csv(\"../datasets/comparison_feature_data/test_late.csv\",index=False)"
   ]
  },
  {
   "cell_type": "code",
   "execution_count": 10,
   "metadata": {},
   "outputs": [
    {
     "name": "stderr",
     "output_type": "stream",
     "text": [
      "522it [00:12, 40.48it/s]\n",
      "2697it [01:06, 40.32it/s]\n",
      "1536it [00:37, 41.04it/s]\n"
     ]
    }
   ],
   "source": [
    "# all features\n",
    "all_pre = GenerateInputDataForMLModel.to_allFeatureData(df_test_pre,\"pre\")\n",
    "all_pre.to_csv(\"../datasets/all_feature_data/test_pre.csv\",index=False)\n",
    "\n",
    "all_mid = GenerateInputDataForMLModel.to_allFeatureData(df_test_mid,\"mid\")\n",
    "all_mid.to_csv(\"../datasets/all_feature_data/test_mid.csv\",index=False)\n",
    "\n",
    "all_late = GenerateInputDataForMLModel.to_allFeatureData(df_test_late,\"late\")\n",
    "all_late.to_csv(\"../datasets/all_feature_data/test_late.csv\",index=False)"
   ]
  }
 ],
 "metadata": {
  "kernelspec": {
   "display_name": "base",
   "language": "python",
   "name": "python3"
  },
  "language_info": {
   "codemirror_mode": {
    "name": "ipython",
    "version": 3
   },
   "file_extension": ".py",
   "mimetype": "text/x-python",
   "name": "python",
   "nbconvert_exporter": "python",
   "pygments_lexer": "ipython3",
   "version": "3.9.13 (main, Aug 25 2022, 18:29:29) \n[Clang 12.0.0 ]"
  },
  "orig_nbformat": 4,
  "vscode": {
   "interpreter": {
    "hash": "45583788f158ccf97e8bfc8f1b755eefbab60f03e39ad2d0d5bdb17f832fcb71"
   }
  }
 },
 "nbformat": 4,
 "nbformat_minor": 2
}
