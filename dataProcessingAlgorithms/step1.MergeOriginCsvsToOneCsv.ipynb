{
 "cells": [
  {
   "cell_type": "code",
   "execution_count": 5,
   "metadata": {},
   "outputs": [],
   "source": [
    "import os, glob\n",
    "import pandas as pd\n",
    "\n",
    "path = [\"../datasets/origin/12.12.-splits/train/\",\"../datasets/origin/12.12.-splits/test/\",\"../datasets/origin/12.12.-splits/val/\"]\n",
    "name = [\"train\",\"test\",\"val\"]"
   ]
  },
  {
   "cell_type": "code",
   "execution_count": 6,
   "metadata": {},
   "outputs": [],
   "source": [
    "for i in range (3):\n",
    "    all_df = glob.glob(os.path.join(path[i], \"df_*.csv\"))\n",
    "    df_from_each_file = (pd.read_csv(f, sep=',').loc[:,'gameId':] for f in all_df)\n",
    "    df_merged  = pd.concat(df_from_each_file, ignore_index=True)\n",
    "    df_merged.to_csv(\"../datasets/merged_data/\"+name[i]+\".csv\", index= False)"
   ]
  }
 ],
 "metadata": {
  "kernelspec": {
   "display_name": "py310",
   "language": "python",
   "name": "python3"
  },
  "language_info": {
   "codemirror_mode": {
    "name": "ipython",
    "version": 3
   },
   "file_extension": ".py",
   "mimetype": "text/x-python",
   "name": "python",
   "nbconvert_exporter": "python",
   "pygments_lexer": "ipython3",
   "version": "3.10.4 | packaged by conda-forge | (main, Mar 30 2022, 08:38:02) [MSC v.1916 64 bit (AMD64)]"
  },
  "orig_nbformat": 4,
  "vscode": {
   "interpreter": {
    "hash": "69bf567fc4554ba01bc8aeb458947b04f6cb2a7bc167412b37d9709419993267"
   }
  }
 },
 "nbformat": 4,
 "nbformat_minor": 2
}
