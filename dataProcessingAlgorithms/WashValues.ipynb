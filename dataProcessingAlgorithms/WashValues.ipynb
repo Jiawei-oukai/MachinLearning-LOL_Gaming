{
 "cells": [
  {
   "cell_type": "code",
   "execution_count": 1,
   "metadata": {},
   "outputs": [],
   "source": [
    "import pandas as pd\n",
    "from tqdm import tqdm\n",
    "import seaborn as sns\n",
    "import matplotlib as plt\n",
    "import os"
   ]
  },
  {
   "cell_type": "code",
   "execution_count": 7,
   "metadata": {},
   "outputs": [],
   "source": [
    "data_train = pd.read_csv(\"../datasets/train_pre.csv\")\n",
    "data_val = pd.read_csv(\"../datasets/val_pre.csv\")"
   ]
  },
  {
   "cell_type": "code",
   "execution_count": 8,
   "metadata": {},
   "outputs": [
    {
     "data": {
      "text/plain": [
       "<AxesSubplot:xlabel='teamVictory', ylabel='gameDuration'>"
      ]
     },
     "execution_count": 8,
     "metadata": {},
     "output_type": "execute_result"
    },
    {
     "data": {
      "image/png": "[encoded data removed]",
      "text/plain": [
       "<Figure size 432x288 with 1 Axes>"
      ]
     },
     "metadata": {
      "needs_background": "light"
     },
     "output_type": "display_data"
    }
   ],
   "source": [
    "sns.boxplot(data_train,y='gameDuration',x='teamVictory')"
   ]
  },
  {
   "cell_type": "code",
   "execution_count": 4,
   "metadata": {},
   "outputs": [],
   "source": [
    "train_output = data_train[(data_train[\"gameDuration\"]>600)]\n",
    "val_output = data_val[(data_val[\"gameDuration\"]>600)]"
   ]
  },
  {
   "cell_type": "code",
   "execution_count": 5,
   "metadata": {},
   "outputs": [
    {
     "name": "stdout",
     "output_type": "stream",
     "text": [
      "delete 37 rows\n",
      "rows in val data after dropping\n",
      "delete 2 rows\n"
     ]
    }
   ],
   "source": [
    "print('delete',data_train.shape[0]-train_output.shape[0],'rows')\n",
    "print('rows in val data after dropping')\n",
    "print('delete',data_val.shape[0]-val_output.shape[0],'rows')"
   ]
  },
  {
   "cell_type": "code",
   "execution_count": 6,
   "metadata": {},
   "outputs": [],
   "source": [
    "train_output.to_csv(\"../datasets/train_pre.csv\", index=False)\n",
    "val_output.to_csv(\"../datasets/val_pre.csv\", index=False)"
   ]
  }
 ],
 "metadata": {
  "kernelspec": {
   "display_name": "Python 3",
   "language": "python",
   "name": "python3"
  },
  "language_info": {
   "codemirror_mode": {
    "name": "ipython",
    "version": 3
   },
   "file_extension": ".py",
   "mimetype": "text/x-python",
   "name": "python",
   "nbconvert_exporter": "python",
   "pygments_lexer": "ipython3",
   "version": "3.10.5"
  },
  "orig_nbformat": 4,
  "vscode": {
   "interpreter": {
    "hash": "6782b0a135e9e0a6eb09f945d5649012e1001589f1d1d842947a5e9954de0638"
   }
  }
 },
 "nbformat": 4,
 "nbformat_minor": 2
}
