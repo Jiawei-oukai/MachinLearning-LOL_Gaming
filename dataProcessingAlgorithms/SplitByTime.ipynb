{
 "cells": [
  {
   "cell_type": "code",
   "execution_count": 34,
   "metadata": {},
   "outputs": [],
   "source": [
    "import pandas as pd\n",
    "from tqdm import tqdm\n",
    "import os"
   ]
  },
  {
   "cell_type": "code",
   "execution_count": 35,
   "metadata": {},
   "outputs": [],
   "source": [
    "data_train = pd.read_csv(\"../datasets/pos_sorted_data/train.csv\")\n",
    "data_test= pd.read_csv(\"../datasets/pos_sorted_data/test.csv\")\n",
    "data_val = pd.read_csv(\"../datasets/pos_sorted_data/val.csv\")"
   ]
  },
  {
   "cell_type": "code",
   "execution_count": 36,
   "metadata": {},
   "outputs": [
    {
     "data": {
      "text/plain": [
       "[1200, 1800]"
      ]
     },
     "execution_count": 36,
     "metadata": {},
     "output_type": "execute_result"
    }
   ],
   "source": [
    "min_split1 = 20\n",
    "min_split2 = 30\n",
    "\n",
    "time_split_in_sec =[60*min_split1,60*min_split2]\n",
    "time_split_in_sec "
   ]
  },
  {
   "cell_type": "code",
   "execution_count": 37,
   "metadata": {},
   "outputs": [],
   "source": [
    "def split_by_time(df):\n",
    "    df_pre = df[df['gameDuration'] < time_split_in_sec[0]]\n",
    "    df_mid = df.loc[(df['gameDuration'] > time_split_in_sec[0]) & (df['gameDuration'] < time_split_in_sec[1])]\n",
    "    df_late = df[df['gameDuration'] > time_split_in_sec[1]]\n",
    "    print (\"pre: \" + str(df_pre.shape[0]) + \"\\n\" \n",
    "    + \"mid: \" + str(df_mid.shape[0]) +\"\\n\" \n",
    "    + \"late: \" +str(df_late.shape[0]))\n",
    "    return df_pre,df_mid,df_late"
   ]
  },
  {
   "cell_type": "code",
   "execution_count": 38,
   "metadata": {},
   "outputs": [
    {
     "name": "stdout",
     "output_type": "stream",
     "text": [
      "pre: 9887\n",
      "mid: 48770\n",
      "late: 27020\n"
     ]
    }
   ],
   "source": [
    "df_pre,df_mid,df_late = split_by_time(data_train)\n",
    "df_pre.to_csv(\"../datasets/train_pre.csv\", index=False)\n",
    "df_mid.to_csv(\"../datasets/train_mid.csv\", index=False)\n",
    "df_late.to_csv(\"../datasets/train_late.csv\", index=False)"
   ]
  },
  {
   "cell_type": "code",
   "execution_count": 39,
   "metadata": {},
   "outputs": [
    {
     "name": "stdout",
     "output_type": "stream",
     "text": [
      "pre: 524\n",
      "mid: 2697\n",
      "late: 1536\n"
     ]
    }
   ],
   "source": [
    "df_pre,df_mid,df_late = split_by_time(data_val)\n",
    "df_pre.to_csv(\"../datasets/val_pre.csv\", index=False)\n",
    "df_mid.to_csv(\"../datasets/val_mid.csv\", index=False)\n",
    "df_late.to_csv(\"../datasets/val_late.csv\", index=False)"
   ]
  }
 ],
 "metadata": {
  "kernelspec": {
   "display_name": "Python 3.9.13 ('base')",
   "language": "python",
   "name": "python3"
  },
  "language_info": {
   "codemirror_mode": {
    "name": "ipython",
    "version": 3
   },
   "file_extension": ".py",
   "mimetype": "text/x-python",
   "name": "python",
   "nbconvert_exporter": "python",
   "pygments_lexer": "ipython3",
   "version": "3.9.13"
  },
  "orig_nbformat": 4,
  "vscode": {
   "interpreter": {
    "hash": "45583788f158ccf97e8bfc8f1b755eefbab60f03e39ad2d0d5bdb17f832fcb71"
   }
  }
 },
 "nbformat": 4,
 "nbformat_minor": 2
}
