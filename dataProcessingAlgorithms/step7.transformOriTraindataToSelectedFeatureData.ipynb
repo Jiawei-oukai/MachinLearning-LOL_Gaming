{
 "cells": [
  {
   "cell_type": "code",
   "execution_count": 1,
   "metadata": {},
   "outputs": [],
   "source": [
    "import GenerateInputDataForMLModel\n",
    "\n",
    "from ChampionNameMapping import ChampionNameMapping\n",
    "import pandas as pd\n"
   ]
  },
  {
   "cell_type": "code",
   "execution_count": 2,
   "metadata": {},
   "outputs": [],
   "source": [
    "df_train_pre = pd.read_csv(\"../datasets/train_pre.csv\")\n",
    "df_train_mid = pd.read_csv(\"../datasets/train_mid.csv\")\n",
    "df_train_late = pd.read_csv(\"../datasets/train_late.csv\")\n"
   ]
  },
  {
   "cell_type": "code",
   "execution_count": 3,
   "metadata": {},
   "outputs": [
    {
     "name": "stderr",
     "output_type": "stream",
     "text": [
      "9850it [04:41, 34.97it/s]\n"
     ]
    }
   ],
   "source": [
    "# selected features\n",
    "dt_pre = GenerateInputDataForMLModel.to_comparisonFeatureData(df_train_pre,\"pre\")\n",
    "dt_pre.to_csv(\"../datasets/comparison_feature_data/train_pre_gold.csv\",index=False)\n"
   ]
  },
  {
   "cell_type": "code",
   "execution_count": 4,
   "metadata": {},
   "outputs": [
    {
     "name": "stderr",
     "output_type": "stream",
     "text": [
      "10703it [05:11, 32.92it/s]"
     ]
    }
   ],
   "source": [
    "dt_mid = GenerateInputDataForMLModel.to_comparisonFeatureData(df_train_mid,\"mid\")\n",
    "dt_mid.to_csv(\"../datasets/comparison_feature_data/train_mid_gold.csv\",index=False)"
   ]
  },
  {
   "cell_type": "code",
   "execution_count": null,
   "metadata": {},
   "outputs": [],
   "source": [
    "dt_late = GenerateInputDataForMLModel.to_comparisonFeatureData(df_train_late,\"late\")\n",
    "dt_late.to_csv(\"../datasets/comparison_feature_data/train_late_gold.csv\",index=False)"
   ]
  },
  {
   "cell_type": "code",
   "execution_count": 3,
   "metadata": {},
   "outputs": [
    {
     "name": "stderr",
     "output_type": "stream",
     "text": [
      "9850it [05:35, 29.39it/s]\n"
     ]
    }
   ],
   "source": [
    "# all features\n",
    "all_pre = GenerateInputDataForMLModel.to_allFeatureData(df_train_pre,\"pre\")\n",
    "all_pre.to_csv(\"../datasets/all_feature_data/train_pre_gold.csv\",index=False)"
   ]
  },
  {
   "cell_type": "code",
   "execution_count": 4,
   "metadata": {},
   "outputs": [
    {
     "name": "stderr",
     "output_type": "stream",
     "text": [
      "48770it [31:16, 25.99it/s]\n"
     ]
    }
   ],
   "source": [
    "all_mid = GenerateInputDataForMLModel.to_allFeatureData(df_train_mid,\"mid\")\n",
    "all_mid.to_csv(\"../datasets/all_feature_data/train_mid_gold.csv\",index=False)"
   ]
  },
  {
   "cell_type": "code",
   "execution_count": 11,
   "metadata": {},
   "outputs": [
    {
     "name": "stderr",
     "output_type": "stream",
     "text": [
      "27020it [15:13, 29.58it/s]\n"
     ]
    }
   ],
   "source": [
    "all_late = GenerateInputDataForMLModel.to_allFeatureData(df_train_late,\"late\")\n",
    "all_late.to_csv(\"../datasets/all_feature_data/train_late_gold.csv\",index=False)"
   ]
  }
 ],
 "metadata": {
  "kernelspec": {
   "display_name": "Python 3.9.13 ('base')",
   "language": "python",
   "name": "python3"
  },
  "language_info": {
   "codemirror_mode": {
    "name": "ipython",
    "version": 3
   },
   "file_extension": ".py",
   "mimetype": "text/x-python",
   "name": "python",
   "nbconvert_exporter": "python",
   "pygments_lexer": "ipython3",
   "version": "3.9.13"
  },
  "orig_nbformat": 4,
  "vscode": {
   "interpreter": {
    "hash": "45583788f158ccf97e8bfc8f1b755eefbab60f03e39ad2d0d5bdb17f832fcb71"
   }
  }
 },
 "nbformat": 4,
 "nbformat_minor": 2
}
