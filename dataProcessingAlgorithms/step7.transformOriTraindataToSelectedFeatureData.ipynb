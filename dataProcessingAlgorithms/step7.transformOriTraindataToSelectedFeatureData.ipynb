{
 "cells": [
  {
   "cell_type": "code",
   "execution_count": 2,
   "metadata": {},
   "outputs": [],
   "source": [
    "import GenerateInputDataForMLModel\n",
    "\n",
    "from ChampionNameMapping import ChampionNameMapping\n",
    "import pandas as pd\n"
   ]
  },
  {
   "cell_type": "code",
   "execution_count": 2,
   "metadata": {},
   "outputs": [],
   "source": [
    "df_train_pre = pd.read_csv(\"../datasets/train_pre.csv\")\n",
    "df_train_mid = pd.read_csv(\"../datasets/train_mid.csv\")\n",
    "df_train_late = pd.read_csv(\"../datasets/train_late.csv\")\n"
   ]
  },
  {
   "cell_type": "code",
   "execution_count": 3,
   "metadata": {},
   "outputs": [
    {
     "name": "stderr",
     "output_type": "stream",
     "text": [
      "9850it [04:41, 34.97it/s]\n"
     ]
    }
   ],
   "source": [
    "# selected features\n",
    "dt_pre = GenerateInputDataForMLModel.to_comparisonFeatureData(df_train_pre,\"pre\")\n",
    "dt_pre.to_csv(\"../datasets/comparison_feature_data/train_pre_gold.csv\",index=False)\n"
   ]
  },
  {
   "cell_type": "code",
   "execution_count": 4,
   "metadata": {},
   "outputs": [
    {
     "name": "stderr",
     "output_type": "stream",
     "text": [
      "48770it [25:17, 32.13it/s]\n"
     ]
    }
   ],
   "source": [
    "dt_mid = GenerateInputDataForMLModel.to_comparisonFeatureData(df_train_mid,\"mid\")\n",
    "dt_mid.to_csv(\"../datasets/comparison_feature_data/train_mid_gold.csv\",index=False)"
   ]
  },
  {
   "cell_type": "code",
   "execution_count": 5,
   "metadata": {},
   "outputs": [
    {
     "name": "stderr",
     "output_type": "stream",
     "text": [
      "27020it [13:41, 32.88it/s]\n"
     ]
    }
   ],
   "source": [
    "dt_late = GenerateInputDataForMLModel.to_comparisonFeatureData(df_train_late,\"late\")\n",
    "dt_late.to_csv(\"../datasets/comparison_feature_data/train_late_gold.csv\",index=False)"
   ]
  },
  {
   "cell_type": "code",
   "execution_count": 3,
   "metadata": {},
   "outputs": [
    {
     "name": "stderr",
     "output_type": "stream",
     "text": [
      "9850it [05:35, 29.39it/s]\n"
     ]
    }
   ],
   "source": [
    "# all features\n",
    "all_pre = GenerateInputDataForMLModel.to_allFeatureData(df_train_pre,\"pre\")\n",
    "all_pre.to_csv(\"../datasets/all_feature_data/train_pre_gold.csv\",index=False)"
   ]
  },
  {
   "cell_type": "code",
   "execution_count": 4,
   "metadata": {},
   "outputs": [
    {
     "name": "stderr",
     "output_type": "stream",
     "text": [
      "48770it [31:16, 25.99it/s]\n"
     ]
    }
   ],
   "source": [
    "all_mid = GenerateInputDataForMLModel.to_allFeatureData(df_train_mid,\"mid\")\n",
    "all_mid.to_csv(\"../datasets/all_feature_data/train_mid_gold.csv\",index=False)"
   ]
  },
  {
   "cell_type": "code",
   "execution_count": 11,
   "metadata": {},
   "outputs": [
    {
     "name": "stderr",
     "output_type": "stream",
     "text": [
      "27020it [15:13, 29.58it/s]\n"
     ]
    }
   ],
   "source": [
    "all_late = GenerateInputDataForMLModel.to_allFeatureData(df_train_late,\"late\")\n",
    "all_late.to_csv(\"../datasets/all_feature_data/train_late_gold.csv\",index=False)"
   ]
  },
  {
   "cell_type": "code",
   "execution_count": 10,
   "metadata": {},
   "outputs": [
    {
     "data": {
      "text/plain": [
       "['Top_counterScore',\n",
       " 'Jug_counterScore',\n",
       " 'Mid_counterScore',\n",
       " 'Bot_counterScore',\n",
       " 'Uti_counterScore',\n",
       " 'diff_TeamAttackScore',\n",
       " 'diff_TeamDefenseScore',\n",
       " 'diff_TeamWinRate',\n",
       " 'diff_TeamComboCount',\n",
       " 'diff_TeamControlScore',\n",
       " 'diff_TeamGoldAbility',\n",
       " 'Team1_AttackDefenseBalanceScore',\n",
       " 'Team2_AttackDefenseBalanceScore',\n",
       " 'TeamVictory']"
      ]
     },
     "execution_count": 10,
     "metadata": {},
     "output_type": "execute_result"
    }
   ],
   "source": [
    "df = pd.read_csv(\"../datasets/comparison_feature_data/train_pre_gold.csv\")\n",
    "df.columns.tolist()"
   ]
  },
  {
   "cell_type": "code",
   "execution_count": 11,
   "metadata": {},
   "outputs": [
    {
     "data": {
      "text/plain": [
       "['Top_counterScore',\n",
       " 'Jug_counterScore',\n",
       " 'Mid_counterScore',\n",
       " 'Bot_counterScore',\n",
       " 'Uti_counterScore',\n",
       " 'Team1_Top_attackScore',\n",
       " 'Team1_Jug_attackScore',\n",
       " 'Team1_Mid_attackScore',\n",
       " 'Team1_Bot_attackScore',\n",
       " 'Team1_Uti_attackScore',\n",
       " 'Team2_Top_attackScore',\n",
       " 'Team2_Jug_attackScore',\n",
       " 'Team2_Mid_attackScore',\n",
       " 'Team2_Bot_attackScore',\n",
       " 'Team2_Uti_attackScore',\n",
       " 'Team1_Top_defenseScore',\n",
       " 'Team1_Jug_defenseScore',\n",
       " 'Team1_Mid_defenseScore',\n",
       " 'Team1_Bot_defenseScore',\n",
       " 'Team1_Uti_defenseScore',\n",
       " 'Team2_Top_defenseScore',\n",
       " 'Team2_Jug_defenseScore',\n",
       " 'Team2_Mid_defenseScore',\n",
       " 'Team2_Bot_defenseScore',\n",
       " 'Team2_Uti_defenseScore',\n",
       " 'Team1_Top_winRates',\n",
       " 'Team1_Jug_winRates',\n",
       " 'Team1_Mid_winRates',\n",
       " 'Team1_Bot_winRates',\n",
       " 'Team1_Uti_winRates',\n",
       " 'Team2_Top_winRates',\n",
       " 'Team2_Jug_winRates',\n",
       " 'Team2_Mid_winRates',\n",
       " 'Team2_Bot_winRates',\n",
       " 'Team2_Uti_winRates',\n",
       " 'Team1_comboCounts',\n",
       " 'Team2_comboCounts',\n",
       " 'Team1_Top_controlScore',\n",
       " 'Team1_Top_goldAbility',\n",
       " 'Team1_Jug_controlScore',\n",
       " 'Team1_Jug_goldAbility',\n",
       " 'Team1_Mid_controlScore',\n",
       " 'Team1_Mid_goldAbility',\n",
       " 'Team1_Bot_controlScore',\n",
       " 'Team1_Bot_goldAbility',\n",
       " 'Team1_Uti_controlScore',\n",
       " 'Team1_Uti_goldAbility',\n",
       " 'Team2_Top_controlScore',\n",
       " 'Team2_Top_goldAbility',\n",
       " 'Team2_Jug_controlScore',\n",
       " 'Team2_Jug_goldAbility',\n",
       " 'Team2_Mid_controlScore',\n",
       " 'Team2_Mid_goldAbility',\n",
       " 'Team2_Bot_controlScore',\n",
       " 'Team2_Bot_goldAbility',\n",
       " 'Team2_Uti_controlScore',\n",
       " 'Team2_Uti_goldAbility',\n",
       " 'TeamVictory']"
      ]
     },
     "execution_count": 11,
     "metadata": {},
     "output_type": "execute_result"
    }
   ],
   "source": [
    "df = pd.read_csv(\"../datasets/all_feature_data/train_pre_gold.csv\")\n",
    "df.columns.tolist()"
   ]
  },
  {
   "cell_type": "code",
   "execution_count": 3,
   "metadata": {},
   "outputs": [
    {
     "ename": "IndexError",
     "evalue": "list index out of range",
     "output_type": "error",
     "traceback": [
      "\u001b[0;31m---------------------------------------------------------------------------\u001b[0m",
      "\u001b[0;31mIndexError\u001b[0m                                Traceback (most recent call last)",
      "\u001b[0;32m/var/folders/9r/4qn8djgj1_g7m5m_fylb0s7w0000gn/T/ipykernel_51824/2280801038.py\u001b[0m in \u001b[0;36m<module>\u001b[0;34m\u001b[0m\n\u001b[0;32m----> 1\u001b[0;31m \u001b[0mall_columns\u001b[0m \u001b[0;34m=\u001b[0m \u001b[0mChampionNameMapping\u001b[0m\u001b[0;34m.\u001b[0m\u001b[0mall_feature_columns\u001b[0m\u001b[0;34m(\u001b[0m\u001b[0;34m)\u001b[0m\u001b[0;34m\u001b[0m\u001b[0;34m\u001b[0m\u001b[0m\n\u001b[0m\u001b[1;32m      2\u001b[0m \u001b[0mall_columns\u001b[0m\u001b[0;34m\u001b[0m\u001b[0;34m\u001b[0m\u001b[0m\n",
      "\u001b[0;32m~/Documents/GitHub/MachinLearning-LOL_Gaming/dataProcessingAlgorithms/ChampionNameMapping.py\u001b[0m in \u001b[0;36mall_feature_columns\u001b[0;34m(self)\u001b[0m\n\u001b[1;32m    217\u001b[0m                 \u001b[0mfeature_columns\u001b[0m\u001b[0;34m[\u001b[0m\u001b[0;36m3\u001b[0m\u001b[0;34m]\u001b[0m\u001b[0;34m.\u001b[0m\u001b[0mappend\u001b[0m\u001b[0;34m(\u001b[0m\u001b[0mc3\u001b[0m\u001b[0;34m)\u001b[0m\u001b[0;34m\u001b[0m\u001b[0;34m\u001b[0m\u001b[0m\n\u001b[1;32m    218\u001b[0m                 \u001b[0mfeature_columns\u001b[0m\u001b[0;34m[\u001b[0m\u001b[0;36m5\u001b[0m\u001b[0;34m]\u001b[0m\u001b[0;34m.\u001b[0m\u001b[0mappend\u001b[0m\u001b[0;34m(\u001b[0m\u001b[0mc5\u001b[0m\u001b[0;34m)\u001b[0m\u001b[0;34m\u001b[0m\u001b[0;34m\u001b[0m\u001b[0m\n\u001b[0;32m--> 219\u001b[0;31m                 \u001b[0mfeature_columns\u001b[0m\u001b[0;34m[\u001b[0m\u001b[0;36m6\u001b[0m\u001b[0;34m]\u001b[0m\u001b[0;34m.\u001b[0m\u001b[0mappend\u001b[0m\u001b[0;34m(\u001b[0m\u001b[0mc6\u001b[0m\u001b[0;34m)\u001b[0m\u001b[0;34m\u001b[0m\u001b[0;34m\u001b[0m\u001b[0m\n\u001b[0m\u001b[1;32m    220\u001b[0m \u001b[0;34m\u001b[0m\u001b[0m\n\u001b[1;32m    221\u001b[0m         \u001b[0moutput\u001b[0m \u001b[0;34m=\u001b[0m\u001b[0;34m[\u001b[0m\u001b[0;34m]\u001b[0m\u001b[0;34m\u001b[0m\u001b[0;34m\u001b[0m\u001b[0m\n",
      "\u001b[0;31mIndexError\u001b[0m: list index out of range"
     ]
    }
   ],
   "source": [
    "all_columns = ChampionNameMapping.all_feature_columns()\n",
    "all_columns"
   ]
  }
 ],
 "metadata": {
  "kernelspec": {
   "display_name": "Python 3.9.13 ('base')",
   "language": "python",
   "name": "python3"
  },
  "language_info": {
   "codemirror_mode": {
    "name": "ipython",
    "version": 3
   },
   "file_extension": ".py",
   "mimetype": "text/x-python",
   "name": "python",
   "nbconvert_exporter": "python",
   "pygments_lexer": "ipython3",
   "version": "3.9.13"
  },
  "orig_nbformat": 4,
  "vscode": {
   "interpreter": {
    "hash": "45583788f158ccf97e8bfc8f1b755eefbab60f03e39ad2d0d5bdb17f832fcb71"
   }
  }
 },
 "nbformat": 4,
 "nbformat_minor": 2
}
