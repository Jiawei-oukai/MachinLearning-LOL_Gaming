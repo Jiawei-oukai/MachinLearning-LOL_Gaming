{
 "cells": [
  {
   "cell_type": "code",
   "execution_count": 1,
   "metadata": {},
   "outputs": [],
   "source": [
    "import pandas as pd\n",
    "from tqdm import tqdm\n",
    "import os\n",
    "\n",
    "\n",
    "class DatasetLoader():\n",
    "    def __init__(self, dataset_directory_path=\"./12.12.-splits/\") -> None:\n",
    "        self.dataset_directory_path = dataset_directory_path\n",
    "        self.splits_csv_list = self._get_list_of_files_splitted(\n",
    "            self.dataset_directory_path\n",
    "        )\n",
    "\n",
    "    def _get_list_of_files_splitted(self, data_dir: str):\n",
    "        dic_of_files = {}\n",
    "        for split in [\"train\", \"val\", \"test\"]:\n",
    "            dic_of_files[split] = []\n",
    "            split_data_dir = os.path.join(data_dir, split)\n",
    "            for root, dic, files in os.walk(split_data_dir, topdown=False):\n",
    "                for name in files:\n",
    "                    path = os.path.join(root, name)\n",
    "                    dic_of_files[split].append(path)\n",
    "        return dic_of_files\n",
    "\n",
    "    def _get_X_Y(\n",
    "        self, \n",
    "        csv_list: str\n",
    "    ):\n",
    "        all_X = None\n",
    "        all_y = None\n",
    "        for csv_path in tqdm(csv_list):\n",
    "            df_raw = pd.read_csv(csv_path)\n",
    "            X = df_raw.drop('teamVictory',axis=1)\n",
    "            Y = df_raw['teamVictory']\n",
    "\n",
    "            if type(all_X) == type(None):\n",
    "                all_X = X\n",
    "                all_y = Y\n",
    "            else:\n",
    "                all_X = pd.concat([all_X, X])\n",
    "                all_y = pd.concat([all_y, Y])\n",
    "\n",
    "        return all_X.reset_index().drop(['index','Unnamed: 0'],axis=1), all_y.reset_index().drop(['index'],axis=1)\n",
    "\n",
    "    def load_datasets(self, split=\"train\"):\n",
    "        csv_list = self.splits_csv_list[split]\n",
    "        print(f\"Loading {len(csv_list)} files from {split} split\")\n",
    "        return self._get_X_Y(csv_list=csv_list)\n",
    "\n",
    "\n",
    "dl = DatasetLoader(dataset_directory_path=\"./datasets/12.12.-splits\")"
   ]
  },
  {
   "cell_type": "code",
   "execution_count": 2,
   "metadata": {},
   "outputs": [
    {
     "name": "stdout",
     "output_type": "stream",
     "text": [
      "Loading 87 files from train split\n"
     ]
    },
    {
     "name": "stderr",
     "output_type": "stream",
     "text": [
      "100%|██████████| 87/87 [00:03<00:00, 27.81it/s]\n"
     ]
    },
    {
     "name": "stdout",
     "output_type": "stream",
     "text": [
      "Loading 5 files from val split\n"
     ]
    },
    {
     "name": "stderr",
     "output_type": "stream",
     "text": [
      "100%|██████████| 5/5 [00:00<00:00, 61.33it/s]\n"
     ]
    },
    {
     "name": "stdout",
     "output_type": "stream",
     "text": [
      "Loading 5 files from test split\n"
     ]
    },
    {
     "name": "stderr",
     "output_type": "stream",
     "text": [
      "100%|██████████| 5/5 [00:00<00:00, 60.10it/s]\n"
     ]
    }
   ],
   "source": [
    "X_train, Y_train = dl.load_datasets(split=\"train\")\n",
    "X_val,   Y_val   = dl.load_datasets(split=\"val\")\n",
    "X_test,  Y_test  = dl.load_datasets(split=\"test\")"
   ]
  }
 ],
 "metadata": {
  "kernelspec": {
   "display_name": "Python 3.10.5 64-bit",
   "language": "python",
   "name": "python3"
  },
  "language_info": {
   "codemirror_mode": {
    "name": "ipython",
    "version": 3
   },
   "file_extension": ".py",
   "mimetype": "text/x-python",
   "name": "python",
   "nbconvert_exporter": "python",
   "pygments_lexer": "ipython3",
   "version": "3.10.5"
  },
  "orig_nbformat": 4,
  "vscode": {
   "interpreter": {
    "hash": "6782b0a135e9e0a6eb09f945d5649012e1001589f1d1d842947a5e9954de0638"
   }
  }
 },
 "nbformat": 4,
 "nbformat_minor": 2
}
