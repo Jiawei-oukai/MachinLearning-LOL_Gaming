{
 "cells": [
  {
   "cell_type": "code",
   "execution_count": 1,
   "metadata": {},
   "outputs": [],
   "source": [
    "#ploting libraries\n",
    "import matplotlib.pyplot as plt \n",
    "import seaborn as sns\n",
    "import pandas as pd\n",
    "import numpy as np\n",
    "\n",
    "#relevant ML libraries\n",
    "from sklearn import tree\n",
    "from sklearn.preprocessing import StandardScaler\n",
    "from sklearn.preprocessing import LabelEncoder\n",
    "from sklearn.model_selection import train_test_split\n",
    "from sklearn.model_selection import cross_val_score\n",
    "from sklearn.metrics import confusion_matrix\n",
    "from sklearn.metrics import classification_report\n",
    "from sklearn.metrics import accuracy_score\n",
    "from sklearn.metrics import f1_score\n",
    "from sklearn.tree import plot_tree\n",
    "from sklearn.model_selection import GridSearchCV\n",
    "from sklearn.model_selection import learning_curve\n",
    "\n",
    "from sklearn.tree import DecisionTreeClassifier\n",
    "from sklearn.ensemble import RandomForestClassifier"
   ]
  },
  {
   "cell_type": "code",
   "execution_count": 2,
   "metadata": {},
   "outputs": [],
   "source": [
    "pre = pd.read_csv('./datasets/comparison_feature_data/train_gold_pre.csv')\n",
    "mid = pd.read_csv('./datasets/comparison_feature_data/train_gold_mid.csv')\n",
    "late = pd.read_csv('./datasets/comparison_feature_data/train_gold_late.csv')\n",
    "\n",
    "pre_all = pd.read_csv('./datasets/all_feature_data/train_gold_pre.csv')\n",
    "mid_all = pd.read_csv('./datasets/all_feature_data/train_gold_mid.csv')\n",
    "late_all = pd.read_csv('./datasets/all_feature_data/train_gold_late.csv')"
   ]
  },
  {
   "cell_type": "code",
   "execution_count": 3,
   "metadata": {},
   "outputs": [],
   "source": [
    "#1. 请复制这些代码到训练模型的ipynb里\n",
    "import ChampionIdMapping as c\n",
    "def predictResult_com_pre(namelist):\n",
    "    data_train = pd.read_csv('./datasets/comparison_feature_data/train_gold_pre.csv')\n",
    "    X_train, Y_train = data_train.drop(['TeamVictory'],axis=1),data_train[['TeamVictory']]\n",
    "    #Creating a copy of data\n",
    "    X_scale = X_train.copy()\n",
    "    #Scaling\n",
    "    scaler = StandardScaler()\n",
    "    scaler.fit(X_scale)\n",
    "    X_scale = pd.DataFrame(scaler.transform(X_scale),columns= X_scale.columns )\n",
    "    train_X, test_X, train_Y, test_Y = train_test_split(X_scale, Y_train, test_size = 0.2, random_state = 0)\n",
    "    #fit model\n",
    "    DCT = DecisionTreeClassifier(max_depth=3)\n",
    "    DCT.fit(train_X,train_Y)\n",
    "\n",
    "    all_features, com_features = c.featureForPredict(namelist,\"pre\")    \n",
    "    result_c = DCT.predict(com_features)\n",
    "\n",
    "    print (\"The teams expected to win in the early stages are:\")\n",
    "    print (result_c)\n",
    "\n",
    "def predictResult_com_mid(namelist):\n",
    "    data_train = pd.read_csv('./datasets/comparison_feature_data/train_gold_mid.csv')\n",
    "    X_train, Y_train = data_train.drop(['TeamVictory'],axis=1),data_train[['TeamVictory']]\n",
    "    #Creating a copy of data\n",
    "    X_scale = X_train.copy()\n",
    "    #Scaling\n",
    "    scaler = StandardScaler()\n",
    "    scaler.fit(X_scale)\n",
    "    X_scale = pd.DataFrame(scaler.transform(X_scale),columns= X_scale.columns )\n",
    "    train_X, test_X, train_Y, test_Y = train_test_split(X_scale, Y_train, test_size = 0.2, random_state = 0)\n",
    "    #fit model\n",
    "    DCT = DecisionTreeClassifier(max_depth=3)\n",
    "    DCT.fit(train_X,train_Y)\n",
    "\n",
    "    all_features, com_features = c.featureForPredict(namelist,\"mid\")    \n",
    "    result_c = DCT.predict(com_features)\n",
    "\n",
    "    print (\"The teams expected to win in the mid stages are:\")\n",
    "    print (result_c)\n",
    "\n",
    "def predictResult_com_late(namelist):\n",
    "    data_train = pd.read_csv('./datasets/comparison_feature_data/train_gold_late.csv')\n",
    "    X_train, Y_train = data_train.drop(['TeamVictory'],axis=1),data_train[['TeamVictory']]\n",
    "    #Creating a copy of data\n",
    "    X_scale = X_train.copy()\n",
    "    #Scaling\n",
    "    scaler = StandardScaler()\n",
    "    scaler.fit(X_scale)\n",
    "    X_scale = pd.DataFrame(scaler.transform(X_scale),columns= X_scale.columns )\n",
    "    train_X, test_X, train_Y, test_Y = train_test_split(X_scale, Y_train, test_size = 0.2, random_state = 0)\n",
    "    #fit model\n",
    "    DCT = DecisionTreeClassifier(max_depth=3)\n",
    "    DCT.fit(train_X,train_Y)\n",
    "\n",
    "    all_features, com_features = c.featureForPredict(namelist,\"late\")    \n",
    "    result_c = DCT.predict(com_features)\n",
    "\n",
    "    print (\"The teams expected to win in the late stages are:\")\n",
    "    print (result_c)"
   ]
  },
  {
   "cell_type": "code",
   "execution_count": 4,
   "metadata": {},
   "outputs": [],
   "source": [
    "# 2.英雄阵容\n",
    "Lineups = [\n",
    "    [\"Annie\",\"Olaf\",\"Galio\",\"Twisted Fate\",\"Zilean\",\"Dr. Mundo\",\"Sona\",\"Janna\",\"Karma\",\"Katarina\"],\n",
    "    ]"
   ]
  },
  {
   "cell_type": "code",
   "execution_count": 5,
   "metadata": {},
   "outputs": [
    {
     "name": "stdout",
     "output_type": "stream",
     "text": [
      "The teams expected to win in the early stages are:\n",
      "[100]\n",
      "The teams expected to win in the mid stages are:\n",
      "[100]\n",
      "The teams expected to win in the late stages are:\n",
      "[100]\n"
     ]
    }
   ],
   "source": [
    "# 3.用比较特征训练的决策树的预测结果\n",
    "predictResult_com_pre(Lineups)\n",
    "predictResult_com_mid(Lineups)\n",
    "predictResult_com_late(Lineups)\n",
    "\n",
    "# 用全部特征训练的模型的预测结果\n",
    "# predictResult_all(Lineups,\"pre\")"
   ]
  }
 ],
 "metadata": {
  "kernelspec": {
   "display_name": "base",
   "language": "python",
   "name": "python3"
  },
  "language_info": {
   "codemirror_mode": {
    "name": "ipython",
    "version": 3
   },
   "file_extension": ".py",
   "mimetype": "text/x-python",
   "name": "python",
   "nbconvert_exporter": "python",
   "pygments_lexer": "ipython3",
   "version": "3.9.13"
  },
  "orig_nbformat": 4,
  "vscode": {
   "interpreter": {
    "hash": "45583788f158ccf97e8bfc8f1b755eefbab60f03e39ad2d0d5bdb17f832fcb71"
   }
  }
 },
 "nbformat": 4,
 "nbformat_minor": 2
}
