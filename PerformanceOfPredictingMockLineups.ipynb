{
 "cells": [
  {
   "cell_type": "code",
   "execution_count": 1,
   "metadata": {},
   "outputs": [],
   "source": [
    "#ploting libraries\n",
    "import matplotlib.pyplot as plt \n",
    "import seaborn as sns\n",
    "import pandas as pd\n",
    "import numpy as np\n",
    "\n",
    "#relevant ML libraries\n",
    "from sklearn import tree\n",
    "from sklearn.preprocessing import StandardScaler\n",
    "from sklearn.preprocessing import LabelEncoder\n",
    "from sklearn.model_selection import train_test_split\n",
    "from sklearn.model_selection import cross_val_score\n",
    "from sklearn.metrics import confusion_matrix\n",
    "from sklearn.metrics import classification_report\n",
    "from sklearn.metrics import accuracy_score\n",
    "from sklearn.metrics import f1_score\n",
    "from sklearn.tree import plot_tree\n",
    "from sklearn.model_selection import GridSearchCV\n",
    "from sklearn.model_selection import learning_curve\n",
    "\n",
    "from sklearn.tree import DecisionTreeClassifier\n",
    "from sklearn.ensemble import RandomForestClassifier"
   ]
  },
  {
   "cell_type": "code",
   "execution_count": 2,
   "metadata": {},
   "outputs": [],
   "source": [
    "pre = pd.read_csv('./datasets/comparison_feature_data/train_gold_pre.csv')\n",
    "mid = pd.read_csv('./datasets/comparison_feature_data/train_gold_mid.csv')\n",
    "late = pd.read_csv('./datasets/comparison_feature_data/train_gold_late.csv')\n",
    "\n",
    "pre_all = pd.read_csv('./datasets/all_feature_data/train_gold_pre.csv')\n",
    "mid_all = pd.read_csv('./datasets/all_feature_data/train_gold_mid.csv')\n",
    "late_all = pd.read_csv('./datasets/all_feature_data/train_gold_late.csv')"
   ]
  },
  {
   "cell_type": "code",
   "execution_count": 26,
   "metadata": {},
   "outputs": [],
   "source": [
    "#1. 请复制这些代码到训练模型的ipynb里\n",
    "import ChampionIdMapping as c\n",
    "def predictResult_com_pre(namelist):\n",
    "    data_train = pd.read_csv('./datasets/comparison_feature_data/train_gold_pre.csv')\n",
    "    X_train, Y_train = data_train.drop(['TeamVictory'],axis=1),data_train[['TeamVictory']]\n",
    "    #Creating a copy of data\n",
    "    X_scale = X_train.copy()\n",
    "    #Scaling\n",
    "    scaler = StandardScaler()\n",
    "    scaler.fit(X_scale)\n",
    "    X_scale = pd.DataFrame(scaler.transform(X_scale),columns= X_scale.columns )\n",
    "    train_X, test_X, train_Y, test_Y = train_test_split(X_scale, Y_train, test_size = 0.2, random_state = 0)\n",
    "    #fit model\n",
    "    DCT = DecisionTreeClassifier(max_depth=3)\n",
    "    DCT.fit(train_X,train_Y)\n",
    "\n",
    "    all_features, com_features = c.featureForPredict(namelist,\"pre\")    \n",
    "    result_c = DCT.predict(com_features)\n",
    "\n",
    "    print (\"The teams expected to win in the early stages are:\" , str(result_c))\n",
    "    return result_c\n",
    "\n",
    "\n",
    "def predictResult_com_mid(namelist):\n",
    "    data_train = pd.read_csv('./datasets/comparison_feature_data/train_gold_mid.csv')\n",
    "    X_train, Y_train = data_train.drop(['TeamVictory'],axis=1),data_train[['TeamVictory']]\n",
    "    #Creating a copy of data\n",
    "    X_scale = X_train.copy()\n",
    "    #Scaling\n",
    "    scaler = StandardScaler()\n",
    "    scaler.fit(X_scale)\n",
    "    X_scale = pd.DataFrame(scaler.transform(X_scale),columns= X_scale.columns )\n",
    "    train_X, test_X, train_Y, test_Y = train_test_split(X_scale, Y_train, test_size = 0.2, random_state = 0)\n",
    "    #fit model\n",
    "    DCT = DecisionTreeClassifier(max_depth=3)\n",
    "    DCT.fit(train_X,train_Y)\n",
    "\n",
    "    all_features, com_features = c.featureForPredict(namelist,\"mid\")    \n",
    "    result_c = DCT.predict(com_features)\n",
    "\n",
    "    print (\"The teams expected to win in the mid stages are:\"  , str(result_c))\n",
    "    return result_c\n",
    "\n",
    "def predictResult_com_late(namelist):\n",
    "    data_train = pd.read_csv('./datasets/comparison_feature_data/train_gold_late.csv')\n",
    "    X_train, Y_train = data_train.drop(['TeamVictory'],axis=1),data_train[['TeamVictory']]\n",
    "    #Creating a copy of data\n",
    "    X_scale = X_train.copy()\n",
    "    #Scaling\n",
    "    scaler = StandardScaler()\n",
    "    scaler.fit(X_scale)\n",
    "    X_scale = pd.DataFrame(scaler.transform(X_scale),columns= X_scale.columns )\n",
    "    train_X, test_X, train_Y, test_Y = train_test_split(X_scale, Y_train, test_size = 0.2, random_state = 0)\n",
    "    #fit model\n",
    "    DCT = DecisionTreeClassifier(max_depth=3)\n",
    "    DCT.fit(train_X,train_Y)\n",
    "\n",
    "    all_features, com_features = c.featureForPredict(namelist,\"late\")    \n",
    "    result_c = DCT.predict(com_features)\n",
    "\n",
    "    print (\"The teams expected to win in the late stages are:\", str(result_c))\n",
    "    return result_c"
   ]
  },
  {
   "cell_type": "code",
   "execution_count": 30,
   "metadata": {},
   "outputs": [],
   "source": [
    "def accuracy_urVsr(result):\n",
    "    right = 0\n",
    "    for r in result:\n",
    "        if r == 200:\n",
    "            right += 1\n",
    "\n",
    "    acc = right / len(result) * 100\n",
    "    print (\"The accuracy is: \" , round(acc,2) , \"100%\")"
   ]
  },
  {
   "cell_type": "code",
   "execution_count": 33,
   "metadata": {},
   "outputs": [],
   "source": [
    "# 2.Test set\n",
    "# team1是不合理的阵容的5个英雄， team2是5个合理阵容的英雄， 实际环境中上应该team2赢\n",
    "lineups_UnreasonableVsReasonable = [\n",
    "    [\"Kai'Sa\",'Zoe','Renata Glasc','Xin Zhao','Pantheon','Sylas',\"Rek'Sai\",'Swain',\"Tristana\",'Lulu'],\n",
    "    [\"Cho'Gath\",'Annie','Lucian','Galio','Aurelion Sol','Swain','Zac','Yone','Ashe','Nami'],\n",
    "    [\"Rakan\",\"Sivir\",\"Camille\",\"Trundle\",\"Cassiopeia\",\"Fiora\",\"Lee Sin\",\"Ziggs\",\"Jinx\",\"Nami\"],\n",
    "    [\"Alistar\",\"Yone\",\"Anivia\",\"Trundle\",\"Sion\",\"Malphite\",\"Vi\",\"Aurelion Sol\",\"Sivir\",\"Rakan\"],\n",
    "    [\"Lux\",\"Urgot\",\"Samira\",\"Zoe\",\"Ivern\",\"Darius\",\"Kayn\",\"Vex\",\"Sivir\",\"Pyke\"],\n",
    "    [\"Blitzcrank\",\"Lux\",\"Urgot\",\"Hecarim\",\"Kled\",\"Aatrox\",\"Kayn\",\"Anivia\",\"Jhin\",\"Nautilus\"],\n",
    "    [\"Yasuo\",\"Gragas\",\"Soraka\",\"Hecarim\",\"Kled\",\"Darius\",\"Xin Zhao\",\"Talon\",\"Zeri\",\"Rakan\"],\n",
    "    [\"Blitzcrank\",\"Sona\",\"Shyvana\",\"Hecarim\",\"Nasus\",\"Aatrox\",\"Xin Zhao\",\"Vex\",\"Draven\",\"Rakan\"],\n",
    "    [\"Veigar\",\"Lux\",\"Urgot\",\"Gnar\",\"Kled\",\"Sion\",\"Gragas\",\"Vex\",\"Miss Fortune\",\"Nautilus\"],\n",
    "    [\"Ashe\",\"Ahri\",\"Bard\",\"Shaco\",\"Karthus\",\"Irelia\",\"Karthus\",\"Orianna\",\"Jinx\",\"Nautilus\"],\n",
    "    [\"Veigar\",\"Lux\",\"Evelynn\",\"Shaco\",\"Kled\",\"Irelia\",\"Karthus\",\"Ryze\",\"Jinx\",\"Nautilus\"],\n",
    "    [\"Ashe\",\"Zed\",\"Urgot\",\"Xin Zhao\",\"Gangplank\",\"Sion\",\"Kayn\",\"Vex\",\"Miss Fortune\",\"Nautilus\"],\n",
    "    [\"Annie\",\"Olaf\",\"Galio\",\"Twisted Fate\",\"Zilean\",\"Darius\",\"Ekko\",\"Akali\",\"Twitch\",\"Karma\"]\n",
    "\n",
    "]\n",
    "# [\"Annie\",\"Olaf\",\"Galio\",\"Twisted Fate\",\"Zilean\",\"Dr. Mundo\",\"Sona\",\"Janna\",\"Karma\",\"Katarina\"]，\n",
    "\n",
    "\n",
    "# team1是前期强的阵容，team2是后期强的阵容，实际环境中，游戏时间越久team2越有可能赢\n",
    "lineups_PreVsLate = [\n",
    "    ['Olaf','Nocturne','Qiyana','Kalista','Renata Glasc','Kayle','Kayn','Kassadin','Vayne','Yuumi']\n",
    "]"
   ]
  },
  {
   "cell_type": "code",
   "execution_count": 34,
   "metadata": {},
   "outputs": [
    {
     "name": "stdout",
     "output_type": "stream",
     "text": [
      "The teams expected to win in the early stages are: [200 200 200 200 200 200 200 200 200 200 200 200 200]\n",
      "The accuracy is:  100.0 100%\n",
      "The teams expected to win in the mid stages are: [100 200 200 200 200 200 200 200 200 200 200 200 200]\n",
      "The accuracy is:  92.31 100%\n",
      "The teams expected to win in the late stages are: [200 200 200 200 200 200 200 200 200 200 200 200 200]\n",
      "The accuracy is:  100.0 100%\n"
     ]
    }
   ],
   "source": [
    "# 3.用比较特征训练的决策树的预测结果\n",
    "# 不合理阵容VS合理阵容\n",
    "accuracy_urVsr(predictResult_com_pre(lineups_UnreasonableVsReasonable))\n",
    "accuracy_urVsr(predictResult_com_mid(lineups_UnreasonableVsReasonable))\n",
    "accuracy_urVsr(predictResult_com_late(lineups_UnreasonableVsReasonable))\n"
   ]
  },
  {
   "cell_type": "code",
   "execution_count": null,
   "metadata": {},
   "outputs": [],
   "source": [
    "\n",
    "# 前期阵容VS后期阵容\n",
    "predictResult_com_pre(lineups_PreVsLate)\n",
    "predictResult_com_mid(lineups_PreVsLate)\n",
    "predictResult_com_late(lineups_PreVsLate)"
   ]
  }
 ],
 "metadata": {
  "kernelspec": {
   "display_name": "base",
   "language": "python",
   "name": "python3"
  },
  "language_info": {
   "codemirror_mode": {
    "name": "ipython",
    "version": 3
   },
   "file_extension": ".py",
   "mimetype": "text/x-python",
   "name": "python",
   "nbconvert_exporter": "python",
   "pygments_lexer": "ipython3",
   "version": "3.9.13 (main, Aug 25 2022, 18:29:29) \n[Clang 12.0.0 ]"
  },
  "orig_nbformat": 4,
  "vscode": {
   "interpreter": {
    "hash": "45583788f158ccf97e8bfc8f1b755eefbab60f03e39ad2d0d5bdb17f832fcb71"
   }
  }
 },
 "nbformat": 4,
 "nbformat_minor": 2
}
