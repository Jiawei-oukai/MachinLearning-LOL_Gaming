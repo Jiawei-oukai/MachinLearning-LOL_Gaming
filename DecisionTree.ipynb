{
 "cells": [
  {
   "cell_type": "code",
   "execution_count": null,
   "metadata": {},
   "outputs": [],
   "source": [
    "#ploting libraries\n",
    "import matplotlib.pyplot as plt \n",
    "import seaborn as sns\n",
    "\n",
    "#relevant ML libraries\n",
    "from sklearn import tree\n",
    "from sklearn.preprocessing import LabelEncoder\n",
    "from sklearn.model_selection import train_test_split\n",
    "from sklearn.model_selection import cross_val_score\n",
    "from sklearn.metrics import confusion_matrix\n",
    "from sklearn.metrics import classification_report\n",
    "from sklearn.metrics import accuracy_score\n",
    "from sklearn.metrics import f1_score\n",
    "from sklearn.tree import plot_tree\n",
    "from sklearn.model_selection import GridSearchCV\n",
    "from sklearn.model_selection import learning_curve\n",
    "\n",
    "from sklearn.tree import DecisionTreeClassifier"
   ]
  },
  {
   "cell_type": "code",
   "execution_count": null,
   "metadata": {},
   "outputs": [],
   "source": [
    "X_train, Y_train = data_train.drop('teamVictory',axis=1),data_train[['teamVictory']]\n",
    "X_validate, Y_Validate = data_val.drop('teamVictory',axis=1),data_val[['teamVictory']]"
   ]
  },
  {
   "cell_type": "code",
   "execution_count": null,
   "metadata": {},
   "outputs": [],
   "source": [
    "train_X, test_X, train_Y, test_Y = train_test_split(tmp, Y, test_size = 0.2, random_state = 0)"
   ]
  },
  {
   "cell_type": "code",
   "execution_count": null,
   "metadata": {},
   "outputs": [],
   "source": [
    "# #Grid Search\n",
    "# param_grid = [\n",
    "#         {\n",
    "#             'max_depth' : range(1,20),\n",
    "#             'min_samples_leaf' : range(1,20),\n",
    "            \n",
    "#         }\n",
    "#        ]\n",
    "\n",
    "# clf = GridSearchCV(DecisionTreeClassifier(), param_grid, cv=3,\n",
    "#                            scoring='accuracy')\n",
    "# clf.fit(train_X,train_Y)\n",
    "\n",
    "\n",
    "# print(\"Best parameters set found on development set:\")\n",
    "# print(clf.best_params_)"
   ]
  },
  {
   "cell_type": "code",
   "execution_count": null,
   "metadata": {},
   "outputs": [],
   "source": [
    "DCT = DecisionTreeClassifier(max_depth=10,min_samples_leaf = 19)\n",
    "DCT.fit(train_X,train_Y)\n",
    "y_predict = DCT.predict(test_X)\n",
    "\n",
    "print(classification_report(y_true=test_Y,y_pred=y_predict))\n",
    "\n",
    "#plot the decision tree with unlimited max depth\n",
    "plt.figure()\n",
    "plt.figure(dpi=1000,figsize=(8,5))\n",
    "plot_tree(DCT, filled=True,feature_names=list(train_X.columns))\n",
    "plt.title(\"Decision tree trained after pruning\")\n",
    "plt.show()"
   ]
  }
 ],
 "metadata": {
  "kernelspec": {
   "display_name": "Python 3",
   "language": "python",
   "name": "python3"
  },
  "language_info": {
   "name": "python",
   "version": "3.10.5 (tags/v3.10.5:f377153, Jun  6 2022, 16:14:13) [MSC v.1929 64 bit (AMD64)]"
  },
  "orig_nbformat": 4,
  "vscode": {
   "interpreter": {
    "hash": "6782b0a135e9e0a6eb09f945d5649012e1001589f1d1d842947a5e9954de0638"
   }
  }
 },
 "nbformat": 4,
 "nbformat_minor": 2
}
