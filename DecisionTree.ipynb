{
 "cells": [
  {
   "cell_type": "code",
   "execution_count": 11,
   "metadata": {},
   "outputs": [],
   "source": [
    "#ploting libraries\n",
    "import matplotlib.pyplot as plt \n",
    "import seaborn as sns\n",
    "import pandas as pd\n",
    "import numpy as np\n",
    "\n",
    "#relevant ML libraries\n",
    "from sklearn import tree\n",
    "from sklearn.preprocessing import StandardScaler\n",
    "from sklearn.preprocessing import LabelEncoder\n",
    "from sklearn.model_selection import train_test_split\n",
    "from sklearn.model_selection import cross_val_score\n",
    "from sklearn.metrics import confusion_matrix\n",
    "from sklearn.metrics import classification_report\n",
    "from sklearn.metrics import accuracy_score\n",
    "from sklearn.metrics import f1_score\n",
    "from sklearn.tree import plot_tree\n",
    "from sklearn.model_selection import GridSearchCV\n",
    "from sklearn.model_selection import learning_curve\n",
    "\n",
    "from sklearn.tree import DecisionTreeClassifier\n",
    "from sklearn.ensemble import RandomForestClassifier"
   ]
  },
  {
   "cell_type": "code",
   "execution_count": 14,
   "metadata": {},
   "outputs": [],
   "source": [
    "pre = pd.read_csv('./datasets/comparison_feature_data/train_gold_pre.csv')\n",
    "mid = pd.read_csv('./datasets/comparison_feature_data/train_gold_mid.csv')\n",
    "late = pd.read_csv('./datasets/comparison_feature_data/train_gold_late.csv')\n",
    "\n",
    "pre_val = pd.read_csv('./datasets/comparison_feature_data/test_pre.csv')\n",
    "mid_val = pd.read_csv('./datasets/comparison_feature_data/test_pre.csv')\n",
    "late_val = pd.read_csv('./datasets/comparison_feature_data/test_pre.csv')\n",
    "\n",
    "\n",
    "\n",
    "pre_all = pd.read_csv('./datasets/all_feature_data/train_pre.csv')\n",
    "mid_all = pd.read_csv('./datasets/all_feature_data/train_mid.csv')\n",
    "late_all = pd.read_csv('./datasets/all_feature_data/train_late.csv')\n",
    "\n",
    "pre_all_val = pd.read_csv('./datasets/all_feature_data/test_pre.csv')\n",
    "mid_all_val = pd.read_csv('./datasets/all_feature_data/test_mid.csv')\n",
    "late_all_val = pd.read_csv('./datasets/all_feature_data/test_late.csv')\n",
    "\n",
    "raw = pd.read_csv('./datasets/tmp_data_for_exploration/exploredata1.csv')\n",
    "\n",
    "pre_all_gold = pd.read_csv('./datasets/all_feature_data/train_gold_pre.csv')\n",
    "mid_all_gold = pd.read_csv('./datasets/all_feature_data/train_gold_mid.csv')\n",
    "late_all_gold = pd.read_csv('./datasets/all_feature_data/train_gold_late.csv')"
   ]
  },
  {
   "cell_type": "code",
   "execution_count": 13,
   "metadata": {},
   "outputs": [],
   "source": [
    "def runModel(data_train,data_val,max_depth):\n",
    "    X_train, Y_train = data_train.drop(['TeamVictory'],axis=1),data_train[['TeamVictory']]\n",
    "    X_val,Y_val = data_val.drop(['TeamVictory'],axis=1),data_val[['TeamVictory']]\n",
    "    #Creating a copy of data\n",
    "    X_scale_train = X_train.copy()\n",
    "    X_scale_val = X_val.copy()\n",
    "    #Scaling\n",
    "    scaler = StandardScaler()\n",
    "    scaler.fit(X_scale_train)\n",
    "    scaler.fit(X_scale_val)\n",
    "    X_scale_train = pd.DataFrame(scaler.transform(X_scale_train),columns= X_scale_train.columns )\n",
    "    X_scale_val = pd.DataFrame(scaler.transform(X_scale_val),columns= X_scale_val.columns )\n",
    "\n",
    "\n",
    "    #fit model\n",
    "    DCT = DecisionTreeClassifier(max_depth=max_depth)\n",
    "    DCT.fit(X_scale_train,Y_train)\n",
    "    y_predict = DCT.predict(X_scale_val)\n",
    "    #print accuracy\n",
    "    print(classification_report(y_true=Y_val,y_pred=y_predict))\n",
    "    #plot tree\n",
    "    plt.figure()\n",
    "    plt.figure(dpi=200,figsize=(16,10))\n",
    "    plot_tree(DCT, filled=True,feature_names=list(X_scale_train.columns))\n",
    "    plt.title(\"Decision tree trained after pruning\")\n",
    "    plt.show()\n",
    "    return DCT"
   ]
  },
  {
   "cell_type": "code",
   "execution_count": 6,
   "metadata": {},
   "outputs": [],
   "source": [
    "def runModel_Umap(data_train,max_depth):\n",
    "    X_train, Y_train = data_train.drop(['TeamVictory'],axis=1),data_train[['TeamVictory']]\n",
    "    #Creating a copy of data\n",
    "    X_scale = X_train.copy()\n",
    "    #Scaling\n",
    "    scaler = StandardScaler()\n",
    "    scaler.fit(X_scale)\n",
    "    X_scale = pd.DataFrame(scaler.transform(X_scale),columns= X_scale.columns )\n",
    "    train_X, test_X, train_Y, test_Y = train_test_split(X_scale, Y_train, test_size = 0.2, random_state = 0)\n",
    "\n",
    "    DCT = DecisionTreeClassifier(max_depth=1)\n",
    "    DCT.fit(train_X,train_Y)\n",
    "    y_predict = DCT.predict(test_X)\n",
    "\n",
    "    print(classification_report(y_true=test_Y,y_pred=y_predict))\n",
    "\n",
    "    #plot the decision tree with unlimited max depth\n",
    "    plt.figure()\n",
    "    plt.figure(dpi=400,figsize=(8,5))\n",
    "    plot_tree(DCT, filled=True,feature_names=list(train_X.columns))\n",
    "    plt.title(\"Decision tree trained after pruning\")\n",
    "    plt.show()\n",
    "    return DCT"
   ]
  },
  {
   "cell_type": "code",
   "execution_count": null,
   "metadata": {},
   "outputs": [],
   "source": [
    "# runModel_Umap(pre_all_gold, 3)\n",
    "# runModel_Umap(mid_all_gold, 3)\n",
    "# runModel_Umap(late_all_gold, 3)"
   ]
  },
  {
   "cell_type": "code",
   "execution_count": null,
   "metadata": {},
   "outputs": [],
   "source": [
    "# #Grid Search\n",
    "# X_train, Y_train = mid.drop(['TeamVictory'],axis=1),mid[['TeamVictory']]\n",
    "# #Creating a copy of data\n",
    "# X_scale = X_train.copy()\n",
    "# #Scaling\n",
    "# scaler = StandardScaler()\n",
    "# scaler.fit(X_scale)\n",
    "# X_scale = pd.DataFrame(scaler.transform(X_scale),columns= X_scale.columns )\n",
    "# train_X, test_X, train_Y, test_Y = train_test_split(X_scale, Y_train, test_size = 0.2, random_state = 0)\n",
    "\n",
    "# param_grid = [\n",
    "#         {\n",
    "#             'max_depth' : range(1,20),\n",
    "            \n",
    "#         }\n",
    "#        ]\n",
    "\n",
    "# clf = GridSearchCV(DecisionTreeClassifier(), param_grid, cv=3,\n",
    "#                            scoring='accuracy')\n",
    "# clf.fit(train_X,train_Y)\n",
    "\n",
    "\n",
    "# print(\"Best parameters set found on development set:\")\n",
    "# print(clf.best_params_)"
   ]
  },
  {
   "cell_type": "code",
   "execution_count": 15,
   "metadata": {},
   "outputs": [
    {
     "name": "stderr",
     "output_type": "stream",
     "text": [
      "c:\\Users\\oukai\\anaconda3\\envs\\py310\\lib\\site-packages\\sklearn\\base.py:493: FutureWarning: The feature names should match those that were passed during fit. Starting version 1.2, an error will be raised.\n",
      "Feature names seen at fit time, yet now missing:\n",
      "- Team1_Bot_goldAbility\n",
      "- Team1_Jug_goldAbility\n",
      "- Team1_Mid_goldAbility\n",
      "- Team1_Top_goldAbility\n",
      "- Team1_Uti_goldAbility\n",
      "- ...\n",
      "\n",
      "  warnings.warn(message, FutureWarning)\n"
     ]
    },
    {
     "ename": "ValueError",
     "evalue": "X has 47 features, but StandardScaler is expecting 57 features as input.",
     "output_type": "error",
     "traceback": [
      "\u001b[1;31m---------------------------------------------------------------------------\u001b[0m",
      "\u001b[1;31mValueError\u001b[0m                                Traceback (most recent call last)",
      "Cell \u001b[1;32mIn[15], line 1\u001b[0m\n\u001b[1;32m----> 1\u001b[0m runModel(pre_all,pre_all_val,\u001b[39m3\u001b[39;49m)\n\u001b[0;32m      2\u001b[0m runModel(mid_all,mid_all_val,\u001b[39m3\u001b[39m)\n\u001b[0;32m      3\u001b[0m runModel(late_all,late_all_val,\u001b[39m3\u001b[39m)\n",
      "Cell \u001b[1;32mIn[13], line 11\u001b[0m, in \u001b[0;36mrunModel\u001b[1;34m(data_train, data_val, max_depth)\u001b[0m\n\u001b[0;32m      9\u001b[0m scaler\u001b[39m.\u001b[39mfit(X_scale_train)\n\u001b[0;32m     10\u001b[0m scaler\u001b[39m.\u001b[39mfit(X_scale_val)\n\u001b[1;32m---> 11\u001b[0m X_scale_train \u001b[39m=\u001b[39m pd\u001b[39m.\u001b[39mDataFrame(scaler\u001b[39m.\u001b[39;49mtransform(X_scale_train),columns\u001b[39m=\u001b[39m X_scale_train\u001b[39m.\u001b[39mcolumns )\n\u001b[0;32m     12\u001b[0m X_scale_val \u001b[39m=\u001b[39m pd\u001b[39m.\u001b[39mDataFrame(scaler\u001b[39m.\u001b[39mtransform(X_scale_val),columns\u001b[39m=\u001b[39m X_scale_val\u001b[39m.\u001b[39mcolumns )\n\u001b[0;32m     15\u001b[0m \u001b[39m#fit model\u001b[39;00m\n",
      "File \u001b[1;32mc:\\Users\\oukai\\anaconda3\\envs\\py310\\lib\\site-packages\\sklearn\\preprocessing\\_data.py:975\u001b[0m, in \u001b[0;36mStandardScaler.transform\u001b[1;34m(self, X, copy)\u001b[0m\n\u001b[0;32m    972\u001b[0m check_is_fitted(\u001b[39mself\u001b[39m)\n\u001b[0;32m    974\u001b[0m copy \u001b[39m=\u001b[39m copy \u001b[39mif\u001b[39;00m copy \u001b[39mis\u001b[39;00m \u001b[39mnot\u001b[39;00m \u001b[39mNone\u001b[39;00m \u001b[39melse\u001b[39;00m \u001b[39mself\u001b[39m\u001b[39m.\u001b[39mcopy\n\u001b[1;32m--> 975\u001b[0m X \u001b[39m=\u001b[39m \u001b[39mself\u001b[39;49m\u001b[39m.\u001b[39;49m_validate_data(\n\u001b[0;32m    976\u001b[0m     X,\n\u001b[0;32m    977\u001b[0m     reset\u001b[39m=\u001b[39;49m\u001b[39mFalse\u001b[39;49;00m,\n\u001b[0;32m    978\u001b[0m     accept_sparse\u001b[39m=\u001b[39;49m\u001b[39m\"\u001b[39;49m\u001b[39mcsr\u001b[39;49m\u001b[39m\"\u001b[39;49m,\n\u001b[0;32m    979\u001b[0m     copy\u001b[39m=\u001b[39;49mcopy,\n\u001b[0;32m    980\u001b[0m     dtype\u001b[39m=\u001b[39;49mFLOAT_DTYPES,\n\u001b[0;32m    981\u001b[0m     force_all_finite\u001b[39m=\u001b[39;49m\u001b[39m\"\u001b[39;49m\u001b[39mallow-nan\u001b[39;49m\u001b[39m\"\u001b[39;49m,\n\u001b[0;32m    982\u001b[0m )\n\u001b[0;32m    984\u001b[0m \u001b[39mif\u001b[39;00m sparse\u001b[39m.\u001b[39missparse(X):\n\u001b[0;32m    985\u001b[0m     \u001b[39mif\u001b[39;00m \u001b[39mself\u001b[39m\u001b[39m.\u001b[39mwith_mean:\n",
      "File \u001b[1;32mc:\\Users\\oukai\\anaconda3\\envs\\py310\\lib\\site-packages\\sklearn\\base.py:600\u001b[0m, in \u001b[0;36mBaseEstimator._validate_data\u001b[1;34m(self, X, y, reset, validate_separately, **check_params)\u001b[0m\n\u001b[0;32m    597\u001b[0m     out \u001b[39m=\u001b[39m X, y\n\u001b[0;32m    599\u001b[0m \u001b[39mif\u001b[39;00m \u001b[39mnot\u001b[39;00m no_val_X \u001b[39mand\u001b[39;00m check_params\u001b[39m.\u001b[39mget(\u001b[39m\"\u001b[39m\u001b[39mensure_2d\u001b[39m\u001b[39m\"\u001b[39m, \u001b[39mTrue\u001b[39;00m):\n\u001b[1;32m--> 600\u001b[0m     \u001b[39mself\u001b[39;49m\u001b[39m.\u001b[39;49m_check_n_features(X, reset\u001b[39m=\u001b[39;49mreset)\n\u001b[0;32m    602\u001b[0m \u001b[39mreturn\u001b[39;00m out\n",
      "File \u001b[1;32mc:\\Users\\oukai\\anaconda3\\envs\\py310\\lib\\site-packages\\sklearn\\base.py:400\u001b[0m, in \u001b[0;36mBaseEstimator._check_n_features\u001b[1;34m(self, X, reset)\u001b[0m\n\u001b[0;32m    397\u001b[0m     \u001b[39mreturn\u001b[39;00m\n\u001b[0;32m    399\u001b[0m \u001b[39mif\u001b[39;00m n_features \u001b[39m!=\u001b[39m \u001b[39mself\u001b[39m\u001b[39m.\u001b[39mn_features_in_:\n\u001b[1;32m--> 400\u001b[0m     \u001b[39mraise\u001b[39;00m \u001b[39mValueError\u001b[39;00m(\n\u001b[0;32m    401\u001b[0m         \u001b[39mf\u001b[39m\u001b[39m\"\u001b[39m\u001b[39mX has \u001b[39m\u001b[39m{\u001b[39;00mn_features\u001b[39m}\u001b[39;00m\u001b[39m features, but \u001b[39m\u001b[39m{\u001b[39;00m\u001b[39mself\u001b[39m\u001b[39m.\u001b[39m\u001b[39m__class__\u001b[39m\u001b[39m.\u001b[39m\u001b[39m__name__\u001b[39m\u001b[39m}\u001b[39;00m\u001b[39m \u001b[39m\u001b[39m\"\u001b[39m\n\u001b[0;32m    402\u001b[0m         \u001b[39mf\u001b[39m\u001b[39m\"\u001b[39m\u001b[39mis expecting \u001b[39m\u001b[39m{\u001b[39;00m\u001b[39mself\u001b[39m\u001b[39m.\u001b[39mn_features_in_\u001b[39m}\u001b[39;00m\u001b[39m features as input.\u001b[39m\u001b[39m\"\u001b[39m\n\u001b[0;32m    403\u001b[0m     )\n",
      "\u001b[1;31mValueError\u001b[0m: X has 47 features, but StandardScaler is expecting 57 features as input."
     ]
    }
   ],
   "source": [
    "runModel(pre_all,pre_all_val,3)\n",
    "runModel(mid_all,mid_all_val,3)\n",
    "runModel(late_all,late_all_val,3)"
   ]
  },
  {
   "cell_type": "code",
   "execution_count": null,
   "metadata": {},
   "outputs": [],
   "source": [
    "# runModel(pre_all,3)"
   ]
  },
  {
   "cell_type": "code",
   "execution_count": null,
   "metadata": {},
   "outputs": [],
   "source": [
    "# #Grid Search\n",
    "# X_train, Y_train = pre.drop(['TeamVictory'],axis=1),pre[['TeamVictory']]\n",
    "# #Creating a copy of data\n",
    "# X_scale = X_train.copy()\n",
    "# #Scaling\n",
    "# scaler = StandardScaler()\n",
    "# scaler.fit(X_scale)\n",
    "# X_scale = pd.DataFrame(scaler.transform(X_scale),columns= X_scale.columns )\n",
    "# train_X, test_X, train_Y, test_Y = train_test_split(X_scale, Y_train, test_size = 0.2, random_state = 0)\n",
    "\n",
    "\n",
    "# param_grid = [\n",
    "#         {\n",
    "#             'n_estimators' : range(10,101,10),\n",
    "#             'max_depth' : range(5,15),\n",
    "#             'min_samples_leaf' : range(5,15),\n",
    "            \n",
    "#         }\n",
    "#        ]\n",
    "\n",
    "# clf = GridSearchCV(RandomForestClassifier(), param_grid, cv=3,\n",
    "#                            scoring='accuracy')\n",
    "# clf.fit(train_X,train_Y.values.ravel())\n",
    "\n",
    "\n",
    "# print(\"Best parameters set found on development set:\")\n",
    "# print(clf.best_params_)"
   ]
  },
  {
   "cell_type": "code",
   "execution_count": 15,
   "metadata": {},
   "outputs": [],
   "source": [
    "X_train, Y_train = pre.drop(['TeamVictory'],axis=1),pre[['TeamVictory']]\n",
    "X_val,Y_val = pre_val.drop(['TeamVictory'],axis=1),pre_val[['TeamVictory']]\n",
    "#Creating a copy of data\n",
    "X_scale_train = X_train.copy()\n",
    "X_scale_val = X_val.copy()\n",
    "#Scaling\n",
    "scaler = StandardScaler()\n",
    "scaler.fit(X_scale_train)\n",
    "scaler.fit(X_scale_val)\n",
    "X_scale_train = pd.DataFrame(scaler.transform(X_scale_train),columns= X_scale_train.columns )\n",
    "X_scale_val = pd.DataFrame(scaler.transform(X_scale_val),columns= X_scale_val.columns )"
   ]
  },
  {
   "cell_type": "code",
   "execution_count": 16,
   "metadata": {},
   "outputs": [
    {
     "data": {
      "text/html": [
       "<style>#sk-container-id-2 {color: black;background-color: white;}#sk-container-id-2 pre{padding: 0;}#sk-container-id-2 div.sk-toggleable {background-color: white;}#sk-container-id-2 label.sk-toggleable__label {cursor: pointer;display: block;width: 100%;margin-bottom: 0;padding: 0.3em;box-sizing: border-box;text-align: center;}#sk-container-id-2 label.sk-toggleable__label-arrow:before {content: \"▸\";float: left;margin-right: 0.25em;color: #696969;}#sk-container-id-2 label.sk-toggleable__label-arrow:hover:before {color: black;}#sk-container-id-2 div.sk-estimator:hover label.sk-toggleable__label-arrow:before {color: black;}#sk-container-id-2 div.sk-toggleable__content {max-height: 0;max-width: 0;overflow: hidden;text-align: left;background-color: #f0f8ff;}#sk-container-id-2 div.sk-toggleable__content pre {margin: 0.2em;color: black;border-radius: 0.25em;background-color: #f0f8ff;}#sk-container-id-2 input.sk-toggleable__control:checked~div.sk-toggleable__content {max-height: 200px;max-width: 100%;overflow: auto;}#sk-container-id-2 input.sk-toggleable__control:checked~label.sk-toggleable__label-arrow:before {content: \"▾\";}#sk-container-id-2 div.sk-estimator input.sk-toggleable__control:checked~label.sk-toggleable__label {background-color: #d4ebff;}#sk-container-id-2 div.sk-label input.sk-toggleable__control:checked~label.sk-toggleable__label {background-color: #d4ebff;}#sk-container-id-2 input.sk-hidden--visually {border: 0;clip: rect(1px 1px 1px 1px);clip: rect(1px, 1px, 1px, 1px);height: 1px;margin: -1px;overflow: hidden;padding: 0;position: absolute;width: 1px;}#sk-container-id-2 div.sk-estimator {font-family: monospace;background-color: #f0f8ff;border: 1px dotted black;border-radius: 0.25em;box-sizing: border-box;margin-bottom: 0.5em;}#sk-container-id-2 div.sk-estimator:hover {background-color: #d4ebff;}#sk-container-id-2 div.sk-parallel-item::after {content: \"\";width: 100%;border-bottom: 1px solid gray;flex-grow: 1;}#sk-container-id-2 div.sk-label:hover label.sk-toggleable__label {background-color: #d4ebff;}#sk-container-id-2 div.sk-serial::before {content: \"\";position: absolute;border-left: 1px solid gray;box-sizing: border-box;top: 0;bottom: 0;left: 50%;z-index: 0;}#sk-container-id-2 div.sk-serial {display: flex;flex-direction: column;align-items: center;background-color: white;padding-right: 0.2em;padding-left: 0.2em;position: relative;}#sk-container-id-2 div.sk-item {position: relative;z-index: 1;}#sk-container-id-2 div.sk-parallel {display: flex;align-items: stretch;justify-content: center;background-color: white;position: relative;}#sk-container-id-2 div.sk-item::before, #sk-container-id-2 div.sk-parallel-item::before {content: \"\";position: absolute;border-left: 1px solid gray;box-sizing: border-box;top: 0;bottom: 0;left: 50%;z-index: -1;}#sk-container-id-2 div.sk-parallel-item {display: flex;flex-direction: column;z-index: 1;position: relative;background-color: white;}#sk-container-id-2 div.sk-parallel-item:first-child::after {align-self: flex-end;width: 50%;}#sk-container-id-2 div.sk-parallel-item:last-child::after {align-self: flex-start;width: 50%;}#sk-container-id-2 div.sk-parallel-item:only-child::after {width: 0;}#sk-container-id-2 div.sk-dashed-wrapped {border: 1px dashed gray;margin: 0 0.4em 0.5em 0.4em;box-sizing: border-box;padding-bottom: 0.4em;background-color: white;}#sk-container-id-2 div.sk-label label {font-family: monospace;font-weight: bold;display: inline-block;line-height: 1.2em;}#sk-container-id-2 div.sk-label-container {text-align: center;}#sk-container-id-2 div.sk-container {/* jupyter's `normalize.less` sets `[hidden] { display: none; }` but bootstrap.min.css set `[hidden] { display: none !important; }` so we also need the `!important` here to be able to override the default hidden behavior on the sphinx rendered scikit-learn.org. See: https://github.com/scikit-learn/scikit-learn/issues/21755 */display: inline-block !important;position: relative;}#sk-container-id-2 div.sk-text-repr-fallback {display: none;}</style><div id=\"sk-container-id-2\" class=\"sk-top-container\"><div class=\"sk-text-repr-fallback\"><pre>RandomForestClassifier(max_depth=5, n_estimators=60)</pre><b>In a Jupyter environment, please rerun this cell to show the HTML representation or trust the notebook. <br />On GitHub, the HTML representation is unable to render, please try loading this page with nbviewer.org.</b></div><div class=\"sk-container\" hidden><div class=\"sk-item\"><div class=\"sk-estimator sk-toggleable\"><input class=\"sk-toggleable__control sk-hidden--visually\" id=\"sk-estimator-id-2\" type=\"checkbox\" checked><label for=\"sk-estimator-id-2\" class=\"sk-toggleable__label sk-toggleable__label-arrow\">RandomForestClassifier</label><div class=\"sk-toggleable__content\"><pre>RandomForestClassifier(max_depth=5, n_estimators=60)</pre></div></div></div></div></div>"
      ],
      "text/plain": [
       "RandomForestClassifier(max_depth=5, n_estimators=60)"
      ]
     },
     "execution_count": 16,
     "metadata": {},
     "output_type": "execute_result"
    }
   ],
   "source": [
    "RDF = RandomForestClassifier(max_depth=5, n_estimators=60)\n",
    "RDF.fit(X_scale_train,Y_train.values.ravel())"
   ]
  },
  {
   "cell_type": "code",
   "execution_count": 17,
   "metadata": {},
   "outputs": [
    {
     "data": {
      "image/png": "[encoded data removed]",
      "text/plain": [
       "<Figure size 432x288 with 1 Axes>"
      ]
     },
     "metadata": {
      "needs_background": "light"
     },
     "output_type": "display_data"
    }
   ],
   "source": [
    "import time\n",
    "\n",
    "feature_names = [X_scale_train.columns[range(0,13)]]\n",
    "start_time = time.time()\n",
    "importances = RDF.feature_importances_\n",
    "std = np.std([tree.feature_importances_ for tree in RDF.estimators_], axis=0)\n",
    "elapsed_time = time.time() - start_time\n",
    "forest_importances = pd.Series(importances, index=feature_names)\n",
    "\n",
    "fig, ax = plt.subplots()\n",
    "forest_importances.plot.bar(yerr=std, ax=ax)\n",
    "ax.set_title(\"Feature importances using MDI\")\n",
    "ax.set_ylabel(\"Mean decrease in impurity\")\n",
    "fig.tight_layout()"
   ]
  }
 ],
 "metadata": {
  "kernelspec": {
   "display_name": "py310",
   "language": "python",
   "name": "python3"
  },
  "language_info": {
   "codemirror_mode": {
    "name": "ipython",
    "version": 3
   },
   "file_extension": ".py",
   "mimetype": "text/x-python",
   "name": "python",
   "nbconvert_exporter": "python",
   "pygments_lexer": "ipython3",
   "version": "3.10.5"
  },
  "orig_nbformat": 4,
  "vscode": {
   "interpreter": {
    "hash": "6782b0a135e9e0a6eb09f945d5649012e1001589f1d1d842947a5e9954de0638"
   }
  }
 },
 "nbformat": 4,
 "nbformat_minor": 2
}
