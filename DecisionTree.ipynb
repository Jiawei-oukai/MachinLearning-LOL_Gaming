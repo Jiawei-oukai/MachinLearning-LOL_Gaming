{
 "cells": [
  {
   "cell_type": "code",
   "execution_count": null,
   "metadata": {},
   "outputs": [],
   "source": [
    "#ploting libraries\n",
    "import matplotlib.pyplot as plt \n",
    "import seaborn as sns\n",
    "import pandas as pd\n",
    "import numpy as np\n",
    "\n",
    "#relevant ML libraries\n",
    "from sklearn import tree\n",
    "from sklearn.preprocessing import StandardScaler\n",
    "from sklearn.preprocessing import LabelEncoder\n",
    "from sklearn.model_selection import train_test_split\n",
    "from sklearn.model_selection import cross_val_score\n",
    "from sklearn.metrics import confusion_matrix\n",
    "from sklearn.metrics import classification_report\n",
    "from sklearn.metrics import accuracy_score\n",
    "from sklearn.metrics import f1_score\n",
    "from sklearn.tree import plot_tree\n",
    "from sklearn.model_selection import GridSearchCV\n",
    "from sklearn.model_selection import learning_curve\n",
    "\n",
    "from sklearn.tree import DecisionTreeClassifier\n",
    "from sklearn.ensemble import RandomForestClassifier"
   ]
  },
  {
   "cell_type": "code",
   "execution_count": null,
   "metadata": {},
   "outputs": [],
   "source": [
    "pre = pd.read_csv('./datasets/comparison_feature_data/train_pre.csv')\n",
    "mid = pd.read_csv('./datasets/comparison_feature_data/train_mid.csv')\n",
    "late = pd.read_csv('./datasets/comparison_feature_data/train_late.csv')\n",
    "\n",
    "pre_all = pd.read_csv('./datasets/all_feature_data/train_pre.csv')\n",
    "mid_all = pd.read_csv('./datasets/all_feature_data/train_mid.csv')\n",
    "late_all = pd.read_csv('./datasets/all_feature_data/train_late.csv')\n",
    "\n",
    "raw = pd.read_csv('./datasets/tmp_data_for_exploration/exploredata1.csv')\n",
    "\n",
    "pre_all_gold = pd.read_csv('./datasets/all_feature_data/train_pre_gold.csv')\n",
    "mid_all_gold = pd.read_csv('./datasets/all_feature_data/train_mid_gold.csv')\n",
    "late_all_gold = pd.read_csv('./datasets/all_feature_data/train_late_gold.csv')"
   ]
  },
  {
   "cell_type": "code",
   "execution_count": null,
   "metadata": {},
   "outputs": [],
   "source": [
    "def runModel(data_train,max_depth):\n",
    "    X_train, Y_train = data_train.drop(['TeamVictory'],axis=1),data_train[['TeamVictory']]\n",
    "    #Creating a copy of data\n",
    "    X_scale = X_train.copy()\n",
    "    #Scaling\n",
    "    scaler = StandardScaler()\n",
    "    scaler.fit(X_scale)\n",
    "    X_scale = pd.DataFrame(scaler.transform(X_scale),columns= X_scale.columns )\n",
    "    train_X, test_X, train_Y, test_Y = train_test_split(X_scale, Y_train, test_size = 0.2, random_state = 0)\n",
    "    #fit model\n",
    "    DCT = DecisionTreeClassifier(max_depth=max_depth)\n",
    "    DCT.fit(train_X,train_Y)\n",
    "    y_predict = DCT.predict(test_X)\n",
    "    #print accuracy\n",
    "    print(classification_report(y_true=test_Y,y_pred=y_predict))\n",
    "    #plot tree\n",
    "    plt.figure()\n",
    "    plt.figure(dpi=200,figsize=(16,10))\n",
    "    plot_tree(DCT, filled=True,feature_names=list(train_X.columns))\n",
    "    plt.title(\"Decision tree trained after pruning\")\n",
    "    plt.show()\n",
    "    return DCT"
   ]
  },
  {
   "cell_type": "code",
   "execution_count": null,
   "metadata": {},
   "outputs": [],
   "source": [
    "def runModel_Umap(data_train,max_depth):\n",
    "    X_train, Y_train = data_train.drop(['TeamVictory'],axis=1),data_train[['TeamVictory']]\n",
    "    #Creating a copy of data\n",
    "    X_scale = X_train.copy()\n",
    "    #Scaling\n",
    "    scaler = StandardScaler()\n",
    "    scaler.fit(X_scale)\n",
    "    X_scale = pd.DataFrame(scaler.transform(X_scale),columns= X_scale.columns )\n",
    "    train_X, test_X, train_Y, test_Y = train_test_split(X_scale, Y_train, test_size = 0.2, random_state = 0)\n",
    "\n",
    "    DCT = DecisionTreeClassifier(max_depth=1)\n",
    "    DCT.fit(train_X,train_Y)\n",
    "    y_predict = DCT.predict(test_X)\n",
    "\n",
    "    print(classification_report(y_true=test_Y,y_pred=y_predict))\n",
    "\n",
    "    #plot the decision tree with unlimited max depth\n",
    "    plt.figure()\n",
    "    plt.figure(dpi=800,figsize=(8,5))\n",
    "    plot_tree(DCT, filled=True,feature_names=list(train_X.columns))\n",
    "    plt.title(\"Decision tree trained after pruning\")\n",
    "    plt.show()\n",
    "    return DCT"
   ]
  },
  {
   "cell_type": "code",
   "execution_count": null,
   "metadata": {},
   "outputs": [],
   "source": [
    "runModel_Umap(pre_all_gold, 3)\n",
    "runModel_Umap(mid_all_gold, 3)\n",
    "runModel_Umap(late_all_gold, 3)"
   ]
  },
  {
   "cell_type": "code",
   "execution_count": null,
   "metadata": {},
   "outputs": [],
   "source": [
    "# #Grid Search\n",
    "# X_train, Y_train = mid.drop(['TeamVictory'],axis=1),mid[['TeamVictory']]\n",
    "# #Creating a copy of data\n",
    "# X_scale = X_train.copy()\n",
    "# #Scaling\n",
    "# scaler = StandardScaler()\n",
    "# scaler.fit(X_scale)\n",
    "# X_scale = pd.DataFrame(scaler.transform(X_scale),columns= X_scale.columns )\n",
    "# train_X, test_X, train_Y, test_Y = train_test_split(X_scale, Y_train, test_size = 0.2, random_state = 0)\n",
    "\n",
    "# param_grid = [\n",
    "#         {\n",
    "#             'max_depth' : range(1,20),\n",
    "            \n",
    "#         }\n",
    "#        ]\n",
    "\n",
    "# clf = GridSearchCV(DecisionTreeClassifier(), param_grid, cv=3,\n",
    "#                            scoring='accuracy')\n",
    "# clf.fit(train_X,train_Y)\n",
    "\n",
    "\n",
    "# print(\"Best parameters set found on development set:\")\n",
    "# print(clf.best_params_)"
   ]
  },
  {
   "cell_type": "code",
   "execution_count": null,
   "metadata": {},
   "outputs": [],
   "source": [
    "runModel(pre,3)\n",
    "runModel(mid,3)\n",
    "runModel(late,3)"
   ]
  },
  {
   "cell_type": "code",
   "execution_count": null,
   "metadata": {},
   "outputs": [],
   "source": [
    "runModel(pre_all,3)"
   ]
  },
  {
   "cell_type": "code",
   "execution_count": null,
   "metadata": {},
   "outputs": [],
   "source": [
    "# #Grid Search\n",
    "# X_train, Y_train = pre.drop(['TeamVictory'],axis=1),pre[['TeamVictory']]\n",
    "# #Creating a copy of data\n",
    "# X_scale = X_train.copy()\n",
    "# #Scaling\n",
    "# scaler = StandardScaler()\n",
    "# scaler.fit(X_scale)\n",
    "# X_scale = pd.DataFrame(scaler.transform(X_scale),columns= X_scale.columns )\n",
    "# train_X, test_X, train_Y, test_Y = train_test_split(X_scale, Y_train, test_size = 0.2, random_state = 0)\n",
    "\n",
    "\n",
    "# param_grid = [\n",
    "#         {\n",
    "#             'n_estimators' : range(10,101,10),\n",
    "#             'max_depth' : range(5,15),\n",
    "#             'min_samples_leaf' : range(5,15),\n",
    "            \n",
    "#         }\n",
    "#        ]\n",
    "\n",
    "# clf = GridSearchCV(RandomForestClassifier(), param_grid, cv=3,\n",
    "#                            scoring='accuracy')\n",
    "# clf.fit(train_X,train_Y.values.ravel())\n",
    "\n",
    "\n",
    "# print(\"Best parameters set found on development set:\")\n",
    "# print(clf.best_params_)"
   ]
  },
  {
   "cell_type": "code",
   "execution_count": null,
   "metadata": {},
   "outputs": [],
   "source": [
    "RDF = RandomForestClassifier(max_depth=5, n_estimators=60)\n",
    "RDF.fit(train_X,train_Y.values.ravel())"
   ]
  },
  {
   "cell_type": "code",
   "execution_count": null,
   "metadata": {},
   "outputs": [],
   "source": [
    "import time\n",
    "\n",
    "feature_names = [train_X.columns[range(0,13)]]\n",
    "start_time = time.time()\n",
    "importances = RDF.feature_importances_\n",
    "std = np.std([tree.feature_importances_ for tree in RDF.estimators_], axis=0)\n",
    "elapsed_time = time.time() - start_time\n",
    "forest_importances = pd.Series(importances, index=feature_names)\n",
    "\n",
    "fig, ax = plt.subplots()\n",
    "forest_importances.plot.bar(yerr=std, ax=ax)\n",
    "ax.set_title(\"Feature importances using MDI\")\n",
    "ax.set_ylabel(\"Mean decrease in impurity\")\n",
    "fig.tight_layout()"
   ]
  }
 ],
 "metadata": {
  "kernelspec": {
   "display_name": "Python 3",
   "language": "python",
   "name": "python3"
  },
  "language_info": {
   "codemirror_mode": {
    "name": "ipython",
    "version": 3
   },
   "file_extension": ".py",
   "mimetype": "text/x-python",
   "name": "python",
   "nbconvert_exporter": "python",
   "pygments_lexer": "ipython3",
   "version": "3.10.5 (tags/v3.10.5:f377153, Jun  6 2022, 16:14:13) [MSC v.1929 64 bit (AMD64)]"
  },
  "orig_nbformat": 4,
  "vscode": {
   "interpreter": {
    "hash": "6782b0a135e9e0a6eb09f945d5649012e1001589f1d1d842947a5e9954de0638"
   }
  }
 },
 "nbformat": 4,
 "nbformat_minor": 2
}
