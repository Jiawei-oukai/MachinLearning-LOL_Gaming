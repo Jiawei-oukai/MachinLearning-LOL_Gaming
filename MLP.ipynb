{
 "cells": [
  {
   "cell_type": "code",
   "execution_count": 1,
   "metadata": {},
   "outputs": [],
   "source": [
    "#ploting libraries\n",
    "import matplotlib.pyplot as plt \n",
    "import seaborn as sns\n",
    "import pandas as pd\n",
    "import numpy as np\n",
    "\n",
    "#relevant ML libraries\n",
    "from sklearn import tree\n",
    "from sklearn.preprocessing import StandardScaler\n",
    "from sklearn.preprocessing import LabelEncoder\n",
    "from sklearn.model_selection import train_test_split\n",
    "from sklearn.model_selection import cross_val_score\n",
    "from sklearn.metrics import confusion_matrix\n",
    "from sklearn.metrics import classification_report\n",
    "from sklearn.metrics import accuracy_score\n",
    "from sklearn.metrics import f1_score\n",
    "from sklearn.tree import plot_tree\n",
    "from sklearn.model_selection import GridSearchCV\n",
    "from sklearn.model_selection import learning_curve\n",
    "\n",
    "from sklearn.tree import DecisionTreeClassifier\n",
    "from sklearn.ensemble import RandomForestClassifier\n",
    "from sklearn.neural_network import MLPClassifier"
   ]
  },
  {
   "cell_type": "code",
   "execution_count": 2,
   "metadata": {},
   "outputs": [],
   "source": [
    "pre = pd.read_csv('./datasets/decisionTree_feature_data/train_pre.csv')\n",
    "mid = pd.read_csv('./datasets/decisionTree_feature_data/train_mid.csv')\n",
    "late = pd.read_csv('./datasets/decisionTree_feature_data/train_late.csv')"
   ]
  },
  {
   "cell_type": "code",
   "execution_count": 3,
   "metadata": {},
   "outputs": [],
   "source": [
    "def runModel(data_train):\n",
    "    X_train, Y_train = data_train.drop(['TeamVictory'],axis=1),data_train[['TeamVictory']]\n",
    "    #Creating a copy of data\n",
    "    X_scale = X_train.copy()\n",
    "    #Scaling\n",
    "    scaler = StandardScaler()\n",
    "    scaler.fit(X_scale)\n",
    "    X_scale = pd.DataFrame(scaler.transform(X_scale),columns= X_scale.columns )\n",
    "    train_X, test_X, train_Y, test_Y = train_test_split(X_scale, Y_train, test_size = 0.2, random_state = 0)\n",
    "    #fit model\n",
    "    MLP = MLPClassifier(activation='relu', hidden_layer_sizes=(100,),max_iter=1000)\n",
    "    MLP.fit(train_X,train_Y.values.ravel())\n",
    "    y_predict = MLP.predict(test_X)\n",
    "    #print accuracy\n",
    "    print(classification_report(y_true=test_Y,y_pred=y_predict))"
   ]
  },
  {
   "cell_type": "code",
   "execution_count": 4,
   "metadata": {},
   "outputs": [],
   "source": [
    "# #Grid Search\n",
    "# X_train, Y_train = mid.drop(['TeamVictory'],axis=1),mid[['TeamVictory']]\n",
    "# #Creating a copy of data\n",
    "# X_scale = X_train.copy()\n",
    "# #Scaling\n",
    "# scaler = StandardScaler()\n",
    "# scaler.fit(X_scale)\n",
    "# X_scale = pd.DataFrame(scaler.transform(X_scale),columns= X_scale.columns )\n",
    "# train_X, test_X, train_Y, test_Y = train_test_split(X_scale, Y_train, test_size = 0.2, random_state = 0)\n",
    "\n",
    "# param_grid = [\n",
    "#         {\n",
    "#             'max_depth' : range(1,20),\n",
    "            \n",
    "#         }\n",
    "#        ]\n",
    "\n",
    "# clf = GridSearchCV(DecisionTreeClassifier(), param_grid, cv=3,\n",
    "#                            scoring='accuracy')\n",
    "# clf.fit(train_X,train_Y)\n",
    "\n",
    "\n",
    "# print(\"Best parameters set found on development set:\")\n",
    "# print(clf.best_params_)"
   ]
  },
  {
   "cell_type": "code",
   "execution_count": 5,
   "metadata": {},
   "outputs": [
    {
     "name": "stdout",
     "output_type": "stream",
     "text": [
      "              precision    recall  f1-score   support\n",
      "\n",
      "         100       0.56      0.58      0.57       969\n",
      "         200       0.58      0.56      0.57      1001\n",
      "\n",
      "    accuracy                           0.57      1970\n",
      "   macro avg       0.57      0.57      0.57      1970\n",
      "weighted avg       0.57      0.57      0.57      1970\n",
      "\n",
      "              precision    recall  f1-score   support\n",
      "\n",
      "         100       0.52      0.51      0.52      4643\n",
      "         200       0.56      0.56      0.56      5111\n",
      "\n",
      "    accuracy                           0.54      9754\n",
      "   macro avg       0.54      0.54      0.54      9754\n",
      "weighted avg       0.54      0.54      0.54      9754\n",
      "\n",
      "              precision    recall  f1-score   support\n",
      "\n",
      "         100       0.53      0.40      0.46      2606\n",
      "         200       0.55      0.67      0.60      2798\n",
      "\n",
      "    accuracy                           0.54      5404\n",
      "   macro avg       0.54      0.54      0.53      5404\n",
      "weighted avg       0.54      0.54      0.53      5404\n",
      "\n"
     ]
    }
   ],
   "source": [
    "runModel(pre)\n",
    "runModel(mid)\n",
    "runModel(late)"
   ]
  },
  {
   "cell_type": "code",
   "execution_count": 6,
   "metadata": {},
   "outputs": [],
   "source": [
    "# import time\n",
    "\n",
    "# feature_names = [train_X.columns[range(0,11)]]\n",
    "# start_time = time.time()\n",
    "# importances = RDF.feature_importances_\n",
    "# std = np.std([tree.feature_importances_ for tree in RDF.estimators_], axis=0)\n",
    "# elapsed_time = time.time() - start_time\n",
    "# forest_importances = pd.Series(importances, index=feature_names)\n",
    "\n",
    "# fig, ax = plt.subplots()\n",
    "# forest_importances.plot.bar(yerr=std, ax=ax)\n",
    "# ax.set_title(\"Feature importances using MDI\")\n",
    "# ax.set_ylabel(\"Mean decrease in impurity\")\n",
    "# fig.tight_layout()"
   ]
  },
  {
   "cell_type": "code",
   "execution_count": 7,
   "metadata": {},
   "outputs": [],
   "source": [
    "# DCT = DecisionTreeClassifier(max_depth=1)\n",
    "# DCT.fit(train_X,train_Y)\n",
    "# y_predict = DCT.predict(test_X)\n",
    "\n",
    "# print(classification_report(y_true=test_Y,y_pred=y_predict))\n",
    "\n",
    "# #plot the decision tree with unlimited max depth\n",
    "# plt.figure()\n",
    "# plt.figure(dpi=800,figsize=(8,5))\n",
    "# plot_tree(DCT, filled=True,feature_names=list(train_X.columns))\n",
    "# plt.title(\"Decision tree trained after pruning\")\n",
    "# plt.show()"
   ]
  }
 ],
 "metadata": {
  "kernelspec": {
   "display_name": "Python 3",
   "language": "python",
   "name": "python3"
  },
  "language_info": {
   "codemirror_mode": {
    "name": "ipython",
    "version": 3
   },
   "file_extension": ".py",
   "mimetype": "text/x-python",
   "name": "python",
   "nbconvert_exporter": "python",
   "pygments_lexer": "ipython3",
   "version": "3.10.5"
  },
  "orig_nbformat": 4,
  "vscode": {
   "interpreter": {
    "hash": "6782b0a135e9e0a6eb09f945d5649012e1001589f1d1d842947a5e9954de0638"
   }
  }
 },
 "nbformat": 4,
 "nbformat_minor": 2
}
